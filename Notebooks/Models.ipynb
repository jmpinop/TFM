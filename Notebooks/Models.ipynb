{
 "cells": [
  {
   "cell_type": "markdown",
   "metadata": {},
   "source": [
    "# Modelizado de los datos"
   ]
  },
  {
   "cell_type": "code",
   "execution_count": 1,
   "metadata": {},
   "outputs": [],
   "source": [
    "# Importaciones necesarias\n",
    "import pandas as pd\n",
    "import numpy as np\n",
    "import matplotlib.pyplot as plt\n",
    "%matplotlib inline\n",
    "import seaborn as sns\n",
    "pd.options.display.max_columns = None\n",
    "import warnings\n",
    "warnings.filterwarnings('ignore')\n",
    "from sklearn.preprocessing import StandardScaler\n",
    "from scipy import stats\n",
    "from sklearn.linear_model import LogisticRegression\n",
    "from sklearn.neighbors import KNeighborsClassifier\n",
    "from sklearn.svm import SVC\n",
    "import xgboost as xgb\n",
    "from xgboost import XGBClassifier\n",
    "from sklearn.tree import DecisionTreeClassifier\n",
    "from sklearn.ensemble import RandomForestClassifier\n",
    "from sklearn.model_selection import cross_val_score\n",
    "from sklearn.model_selection import GridSearchCV\n",
    "from sklearn.model_selection import RandomizedSearchCV\n",
    "from sklearn.ensemble import VotingClassifier\n",
    "from sklearn.model_selection import train_test_split\n",
    "import sklearn.metrics\n",
    "from sklearn.metrics import f1_score\n",
    "from sklearn.metrics import make_scorer\n",
    "from sklearn.metrics import plot_confusion_matrix, classification_report\n",
    "import pickle"
   ]
  },
  {
   "cell_type": "code",
   "execution_count": 2,
   "metadata": {},
   "outputs": [
    {
     "data": {
      "text/html": [
       "<div>\n",
       "<style scoped>\n",
       "    .dataframe tbody tr th:only-of-type {\n",
       "        vertical-align: middle;\n",
       "    }\n",
       "\n",
       "    .dataframe tbody tr th {\n",
       "        vertical-align: top;\n",
       "    }\n",
       "\n",
       "    .dataframe thead th {\n",
       "        text-align: right;\n",
       "    }\n",
       "</style>\n",
       "<table border=\"1\" class=\"dataframe\">\n",
       "  <thead>\n",
       "    <tr style=\"text-align: right;\">\n",
       "      <th></th>\n",
       "      <th>Date</th>\n",
       "      <th>Spots</th>\n",
       "      <th>Duration</th>\n",
       "      <th>Peak_energy</th>\n",
       "      <th>Central_PA</th>\n",
       "      <th>Width</th>\n",
       "      <th>2_I_speed</th>\n",
       "      <th>2_F_speed</th>\n",
       "      <th>2_20R_speed</th>\n",
       "      <th>Acceleration</th>\n",
       "      <th>MPA</th>\n",
       "      <th>Class</th>\n",
       "    </tr>\n",
       "  </thead>\n",
       "  <tbody>\n",
       "    <tr>\n",
       "      <th>0</th>\n",
       "      <td>1996-01-31</td>\n",
       "      <td>13.000000</td>\n",
       "      <td>10.000000</td>\n",
       "      <td>1.860000e-07</td>\n",
       "      <td>274.000000</td>\n",
       "      <td>47.0</td>\n",
       "      <td>219.00</td>\n",
       "      <td>99.000000</td>\n",
       "      <td>315.500000</td>\n",
       "      <td>-12.30</td>\n",
       "      <td>272.0</td>\n",
       "      <td>3</td>\n",
       "    </tr>\n",
       "    <tr>\n",
       "      <th>1</th>\n",
       "      <td>1996-03-11</td>\n",
       "      <td>22.000000</td>\n",
       "      <td>12.111111</td>\n",
       "      <td>5.227778e-07</td>\n",
       "      <td>86.000000</td>\n",
       "      <td>52.0</td>\n",
       "      <td>124.00</td>\n",
       "      <td>352.000000</td>\n",
       "      <td>656.000000</td>\n",
       "      <td>20.10</td>\n",
       "      <td>77.0</td>\n",
       "      <td>4</td>\n",
       "    </tr>\n",
       "    <tr>\n",
       "      <th>2</th>\n",
       "      <td>1996-03-14</td>\n",
       "      <td>18.000000</td>\n",
       "      <td>6.000000</td>\n",
       "      <td>1.600000e-07</td>\n",
       "      <td>285.000000</td>\n",
       "      <td>59.0</td>\n",
       "      <td>526.00</td>\n",
       "      <td>307.000000</td>\n",
       "      <td>302.000000</td>\n",
       "      <td>-8.90</td>\n",
       "      <td>292.0</td>\n",
       "      <td>5</td>\n",
       "    </tr>\n",
       "    <tr>\n",
       "      <th>3</th>\n",
       "      <td>1996-05-05</td>\n",
       "      <td>14.666667</td>\n",
       "      <td>43.444444</td>\n",
       "      <td>1.462222e-06</td>\n",
       "      <td>93.000000</td>\n",
       "      <td>62.5</td>\n",
       "      <td>373.75</td>\n",
       "      <td>370.000000</td>\n",
       "      <td>370.000000</td>\n",
       "      <td>0.05</td>\n",
       "      <td>78.5</td>\n",
       "      <td>5</td>\n",
       "    </tr>\n",
       "    <tr>\n",
       "      <th>4</th>\n",
       "      <td>1996-05-06</td>\n",
       "      <td>15.000000</td>\n",
       "      <td>24.666667</td>\n",
       "      <td>7.800000e-07</td>\n",
       "      <td>88.000000</td>\n",
       "      <td>73.0</td>\n",
       "      <td>496.00</td>\n",
       "      <td>360.000000</td>\n",
       "      <td>404.000000</td>\n",
       "      <td>-5.00</td>\n",
       "      <td>83.0</td>\n",
       "      <td>5</td>\n",
       "    </tr>\n",
       "    <tr>\n",
       "      <th>...</th>\n",
       "      <td>...</td>\n",
       "      <td>...</td>\n",
       "      <td>...</td>\n",
       "      <td>...</td>\n",
       "      <td>...</td>\n",
       "      <td>...</td>\n",
       "      <td>...</td>\n",
       "      <td>...</td>\n",
       "      <td>...</td>\n",
       "      <td>...</td>\n",
       "      <td>...</td>\n",
       "      <td>...</td>\n",
       "    </tr>\n",
       "    <tr>\n",
       "      <th>4289</th>\n",
       "      <td>2016-12-26</td>\n",
       "      <td>16.000000</td>\n",
       "      <td>14.000000</td>\n",
       "      <td>4.375000e-07</td>\n",
       "      <td>72.000000</td>\n",
       "      <td>25.0</td>\n",
       "      <td>127.00</td>\n",
       "      <td>114.000000</td>\n",
       "      <td>341.000000</td>\n",
       "      <td>-1.90</td>\n",
       "      <td>71.0</td>\n",
       "      <td>2</td>\n",
       "    </tr>\n",
       "    <tr>\n",
       "      <th>4290</th>\n",
       "      <td>2016-12-27</td>\n",
       "      <td>16.000000</td>\n",
       "      <td>20.333333</td>\n",
       "      <td>2.066667e-07</td>\n",
       "      <td>236.000000</td>\n",
       "      <td>33.0</td>\n",
       "      <td>79.00</td>\n",
       "      <td>284.000000</td>\n",
       "      <td>430.000000</td>\n",
       "      <td>7.50</td>\n",
       "      <td>239.0</td>\n",
       "      <td>3</td>\n",
       "    </tr>\n",
       "    <tr>\n",
       "      <th>4291</th>\n",
       "      <td>2016-12-29</td>\n",
       "      <td>11.000000</td>\n",
       "      <td>9.000000</td>\n",
       "      <td>1.300000e-07</td>\n",
       "      <td>48.000000</td>\n",
       "      <td>20.0</td>\n",
       "      <td>112.00</td>\n",
       "      <td>180.000000</td>\n",
       "      <td>370.000000</td>\n",
       "      <td>5.60</td>\n",
       "      <td>55.0</td>\n",
       "      <td>2</td>\n",
       "    </tr>\n",
       "    <tr>\n",
       "      <th>4292</th>\n",
       "      <td>2016-12-30</td>\n",
       "      <td>11.000000</td>\n",
       "      <td>11.500000</td>\n",
       "      <td>1.600000e-07</td>\n",
       "      <td>136.000000</td>\n",
       "      <td>34.5</td>\n",
       "      <td>250.00</td>\n",
       "      <td>419.000000</td>\n",
       "      <td>518.500000</td>\n",
       "      <td>9.50</td>\n",
       "      <td>143.5</td>\n",
       "      <td>4</td>\n",
       "    </tr>\n",
       "    <tr>\n",
       "      <th>4293</th>\n",
       "      <td>2016-12-31</td>\n",
       "      <td>11.000000</td>\n",
       "      <td>111.500000</td>\n",
       "      <td>2.100000e-07</td>\n",
       "      <td>74.666667</td>\n",
       "      <td>33.0</td>\n",
       "      <td>305.00</td>\n",
       "      <td>423.333333</td>\n",
       "      <td>931.333333</td>\n",
       "      <td>29.70</td>\n",
       "      <td>79.0</td>\n",
       "      <td>4</td>\n",
       "    </tr>\n",
       "  </tbody>\n",
       "</table>\n",
       "<p>4294 rows × 12 columns</p>\n",
       "</div>"
      ],
      "text/plain": [
       "            Date      Spots    Duration   Peak_energy  Central_PA  Width  \\\n",
       "0     1996-01-31  13.000000   10.000000  1.860000e-07  274.000000   47.0   \n",
       "1     1996-03-11  22.000000   12.111111  5.227778e-07   86.000000   52.0   \n",
       "2     1996-03-14  18.000000    6.000000  1.600000e-07  285.000000   59.0   \n",
       "3     1996-05-05  14.666667   43.444444  1.462222e-06   93.000000   62.5   \n",
       "4     1996-05-06  15.000000   24.666667  7.800000e-07   88.000000   73.0   \n",
       "...          ...        ...         ...           ...         ...    ...   \n",
       "4289  2016-12-26  16.000000   14.000000  4.375000e-07   72.000000   25.0   \n",
       "4290  2016-12-27  16.000000   20.333333  2.066667e-07  236.000000   33.0   \n",
       "4291  2016-12-29  11.000000    9.000000  1.300000e-07   48.000000   20.0   \n",
       "4292  2016-12-30  11.000000   11.500000  1.600000e-07  136.000000   34.5   \n",
       "4293  2016-12-31  11.000000  111.500000  2.100000e-07   74.666667   33.0   \n",
       "\n",
       "      2_I_speed   2_F_speed  2_20R_speed  Acceleration    MPA  Class  \n",
       "0        219.00   99.000000   315.500000        -12.30  272.0      3  \n",
       "1        124.00  352.000000   656.000000         20.10   77.0      4  \n",
       "2        526.00  307.000000   302.000000         -8.90  292.0      5  \n",
       "3        373.75  370.000000   370.000000          0.05   78.5      5  \n",
       "4        496.00  360.000000   404.000000         -5.00   83.0      5  \n",
       "...         ...         ...          ...           ...    ...    ...  \n",
       "4289     127.00  114.000000   341.000000         -1.90   71.0      2  \n",
       "4290      79.00  284.000000   430.000000          7.50  239.0      3  \n",
       "4291     112.00  180.000000   370.000000          5.60   55.0      2  \n",
       "4292     250.00  419.000000   518.500000          9.50  143.5      4  \n",
       "4293     305.00  423.333333   931.333333         29.70   79.0      4  \n",
       "\n",
       "[4294 rows x 12 columns]"
      ]
     },
     "execution_count": 2,
     "metadata": {},
     "output_type": "execute_result"
    }
   ],
   "source": [
    "# Cargamos nuestro dataframe final\n",
    "SFC = pd.read_csv('../../TFM/Datos/SFC.csv', sep = ',')\n",
    "SFC"
   ]
  },
  {
   "cell_type": "code",
   "execution_count": 3,
   "metadata": {},
   "outputs": [
    {
     "name": "stdout",
     "output_type": "stream",
     "text": [
      "<class 'pandas.core.frame.DataFrame'>\n",
      "RangeIndex: 4294 entries, 0 to 4293\n",
      "Data columns (total 12 columns):\n",
      " #   Column        Non-Null Count  Dtype  \n",
      "---  ------        --------------  -----  \n",
      " 0   Date          4294 non-null   object \n",
      " 1   Spots         4294 non-null   float64\n",
      " 2   Duration      4294 non-null   float64\n",
      " 3   Peak_energy   4294 non-null   float64\n",
      " 4   Central_PA    4294 non-null   float64\n",
      " 5   Width         4294 non-null   float64\n",
      " 6   2_I_speed     4294 non-null   float64\n",
      " 7   2_F_speed     4294 non-null   float64\n",
      " 8   2_20R_speed   4294 non-null   float64\n",
      " 9   Acceleration  4294 non-null   float64\n",
      " 10  MPA           4294 non-null   float64\n",
      " 11  Class         4294 non-null   int64  \n",
      "dtypes: float64(10), int64(1), object(1)\n",
      "memory usage: 402.7+ KB\n"
     ]
    }
   ],
   "source": [
    "# Información\n",
    "SFC.info()"
   ]
  },
  {
   "cell_type": "code",
   "execution_count": 4,
   "metadata": {},
   "outputs": [
    {
     "data": {
      "text/html": [
       "<div>\n",
       "<style scoped>\n",
       "    .dataframe tbody tr th:only-of-type {\n",
       "        vertical-align: middle;\n",
       "    }\n",
       "\n",
       "    .dataframe tbody tr th {\n",
       "        vertical-align: top;\n",
       "    }\n",
       "\n",
       "    .dataframe thead th {\n",
       "        text-align: right;\n",
       "    }\n",
       "</style>\n",
       "<table border=\"1\" class=\"dataframe\">\n",
       "  <thead>\n",
       "    <tr style=\"text-align: right;\">\n",
       "      <th></th>\n",
       "      <th>Spots</th>\n",
       "      <th>Duration</th>\n",
       "      <th>Peak_energy</th>\n",
       "      <th>Central_PA</th>\n",
       "      <th>Width</th>\n",
       "      <th>2_I_speed</th>\n",
       "      <th>2_F_speed</th>\n",
       "      <th>2_20R_speed</th>\n",
       "      <th>Acceleration</th>\n",
       "      <th>MPA</th>\n",
       "      <th>Class</th>\n",
       "    </tr>\n",
       "  </thead>\n",
       "  <tbody>\n",
       "    <tr>\n",
       "      <th>count</th>\n",
       "      <td>4294.000000</td>\n",
       "      <td>4294.000000</td>\n",
       "      <td>4.294000e+03</td>\n",
       "      <td>4294.000000</td>\n",
       "      <td>4294.000000</td>\n",
       "      <td>4294.000000</td>\n",
       "      <td>4294.000000</td>\n",
       "      <td>4294.000000</td>\n",
       "      <td>4294.000000</td>\n",
       "      <td>4294.000000</td>\n",
       "      <td>4294.000000</td>\n",
       "    </tr>\n",
       "    <tr>\n",
       "      <th>mean</th>\n",
       "      <td>93.026233</td>\n",
       "      <td>19.765883</td>\n",
       "      <td>3.238684e-06</td>\n",
       "      <td>180.620504</td>\n",
       "      <td>72.567794</td>\n",
       "      <td>388.123024</td>\n",
       "      <td>414.508451</td>\n",
       "      <td>545.821510</td>\n",
       "      <td>1.626137</td>\n",
       "      <td>180.546638</td>\n",
       "      <td>4.242897</td>\n",
       "    </tr>\n",
       "    <tr>\n",
       "      <th>std</th>\n",
       "      <td>60.687674</td>\n",
       "      <td>15.924346</td>\n",
       "      <td>6.160425e-06</td>\n",
       "      <td>68.075314</td>\n",
       "      <td>45.080298</td>\n",
       "      <td>198.686372</td>\n",
       "      <td>176.084757</td>\n",
       "      <td>223.872249</td>\n",
       "      <td>16.700271</td>\n",
       "      <td>68.758822</td>\n",
       "      <td>0.989775</td>\n",
       "    </tr>\n",
       "    <tr>\n",
       "      <th>min</th>\n",
       "      <td>6.000000</td>\n",
       "      <td>3.000000</td>\n",
       "      <td>1.000000e-07</td>\n",
       "      <td>1.000000</td>\n",
       "      <td>11.000000</td>\n",
       "      <td>10.000000</td>\n",
       "      <td>10.000000</td>\n",
       "      <td>21.000000</td>\n",
       "      <td>-140.257143</td>\n",
       "      <td>3.000000</td>\n",
       "      <td>1.000000</td>\n",
       "    </tr>\n",
       "    <tr>\n",
       "      <th>25%</th>\n",
       "      <td>45.000000</td>\n",
       "      <td>11.545455</td>\n",
       "      <td>5.854167e-07</td>\n",
       "      <td>131.000000</td>\n",
       "      <td>44.500000</td>\n",
       "      <td>251.000000</td>\n",
       "      <td>298.062500</td>\n",
       "      <td>394.233333</td>\n",
       "      <td>-4.800000</td>\n",
       "      <td>130.343750</td>\n",
       "      <td>4.000000</td>\n",
       "    </tr>\n",
       "    <tr>\n",
       "      <th>50%</th>\n",
       "      <td>80.000000</td>\n",
       "      <td>15.703297</td>\n",
       "      <td>1.489444e-06</td>\n",
       "      <td>182.000000</td>\n",
       "      <td>61.500000</td>\n",
       "      <td>352.775000</td>\n",
       "      <td>389.000000</td>\n",
       "      <td>516.366667</td>\n",
       "      <td>1.400000</td>\n",
       "      <td>181.291667</td>\n",
       "      <td>4.000000</td>\n",
       "    </tr>\n",
       "    <tr>\n",
       "      <th>75%</th>\n",
       "      <td>132.000000</td>\n",
       "      <td>22.000000</td>\n",
       "      <td>3.345625e-06</td>\n",
       "      <td>231.465909</td>\n",
       "      <td>86.000000</td>\n",
       "      <td>486.517857</td>\n",
       "      <td>501.191667</td>\n",
       "      <td>652.687500</td>\n",
       "      <td>7.171250</td>\n",
       "      <td>231.191667</td>\n",
       "      <td>5.000000</td>\n",
       "    </tr>\n",
       "    <tr>\n",
       "      <th>max</th>\n",
       "      <td>322.000000</td>\n",
       "      <td>225.500000</td>\n",
       "      <td>9.401429e-05</td>\n",
       "      <td>358.000000</td>\n",
       "      <td>360.000000</td>\n",
       "      <td>1442.333333</td>\n",
       "      <td>1247.000000</td>\n",
       "      <td>1838.500000</td>\n",
       "      <td>133.800000</td>\n",
       "      <td>359.000000</td>\n",
       "      <td>6.000000</td>\n",
       "    </tr>\n",
       "  </tbody>\n",
       "</table>\n",
       "</div>"
      ],
      "text/plain": [
       "             Spots     Duration   Peak_energy   Central_PA        Width  \\\n",
       "count  4294.000000  4294.000000  4.294000e+03  4294.000000  4294.000000   \n",
       "mean     93.026233    19.765883  3.238684e-06   180.620504    72.567794   \n",
       "std      60.687674    15.924346  6.160425e-06    68.075314    45.080298   \n",
       "min       6.000000     3.000000  1.000000e-07     1.000000    11.000000   \n",
       "25%      45.000000    11.545455  5.854167e-07   131.000000    44.500000   \n",
       "50%      80.000000    15.703297  1.489444e-06   182.000000    61.500000   \n",
       "75%     132.000000    22.000000  3.345625e-06   231.465909    86.000000   \n",
       "max     322.000000   225.500000  9.401429e-05   358.000000   360.000000   \n",
       "\n",
       "         2_I_speed    2_F_speed  2_20R_speed  Acceleration          MPA  \\\n",
       "count  4294.000000  4294.000000  4294.000000   4294.000000  4294.000000   \n",
       "mean    388.123024   414.508451   545.821510      1.626137   180.546638   \n",
       "std     198.686372   176.084757   223.872249     16.700271    68.758822   \n",
       "min      10.000000    10.000000    21.000000   -140.257143     3.000000   \n",
       "25%     251.000000   298.062500   394.233333     -4.800000   130.343750   \n",
       "50%     352.775000   389.000000   516.366667      1.400000   181.291667   \n",
       "75%     486.517857   501.191667   652.687500      7.171250   231.191667   \n",
       "max    1442.333333  1247.000000  1838.500000    133.800000   359.000000   \n",
       "\n",
       "             Class  \n",
       "count  4294.000000  \n",
       "mean      4.242897  \n",
       "std       0.989775  \n",
       "min       1.000000  \n",
       "25%       4.000000  \n",
       "50%       4.000000  \n",
       "75%       5.000000  \n",
       "max       6.000000  "
      ]
     },
     "execution_count": 4,
     "metadata": {},
     "output_type": "execute_result"
    }
   ],
   "source": [
    "# Datos estadísticos\n",
    "SFC.describe()"
   ]
  },
  {
   "cell_type": "code",
   "execution_count": 5,
   "metadata": {},
   "outputs": [
    {
     "data": {
      "text/plain": [
       "<matplotlib.axes._subplots.AxesSubplot at 0x7f62d4f75d10>"
      ]
     },
     "execution_count": 5,
     "metadata": {},
     "output_type": "execute_result"
    },
    {
     "data": {
      "image/png": "[encoded data removed]",
      "text/plain": [
       "<Figure size 648x504 with 2 Axes>"
      ]
     },
     "metadata": {},
     "output_type": "display_data"
    }
   ],
   "source": [
    "# Vamos a ver la correlación entre las distintas variables\n",
    "sns.set(rc = {'figure.figsize':(9, 7)})\n",
    "sns.heatmap(SFC.corr(), cmap = 'RdBu', center = 0)"
   ]
  },
  {
   "cell_type": "code",
   "execution_count": 6,
   "metadata": {},
   "outputs": [
    {
     "data": {
      "text/html": [
       "<div>\n",
       "<style scoped>\n",
       "    .dataframe tbody tr th:only-of-type {\n",
       "        vertical-align: middle;\n",
       "    }\n",
       "\n",
       "    .dataframe tbody tr th {\n",
       "        vertical-align: top;\n",
       "    }\n",
       "\n",
       "    .dataframe thead th {\n",
       "        text-align: right;\n",
       "    }\n",
       "</style>\n",
       "<table border=\"1\" class=\"dataframe\">\n",
       "  <thead>\n",
       "    <tr style=\"text-align: right;\">\n",
       "      <th></th>\n",
       "      <th>Spots</th>\n",
       "      <th>Duration</th>\n",
       "      <th>Peak_energy</th>\n",
       "      <th>Central_PA</th>\n",
       "      <th>Width</th>\n",
       "      <th>2_I_speed</th>\n",
       "      <th>2_F_speed</th>\n",
       "      <th>2_20R_speed</th>\n",
       "      <th>Acceleration</th>\n",
       "      <th>MPA</th>\n",
       "      <th>Class</th>\n",
       "    </tr>\n",
       "  </thead>\n",
       "  <tbody>\n",
       "    <tr>\n",
       "      <th>Spots</th>\n",
       "      <td>1.000000</td>\n",
       "      <td>-0.064902</td>\n",
       "      <td>0.311952</td>\n",
       "      <td>0.004265</td>\n",
       "      <td>0.122508</td>\n",
       "      <td>0.275094</td>\n",
       "      <td>0.204296</td>\n",
       "      <td>0.122487</td>\n",
       "      <td>-0.095990</td>\n",
       "      <td>-0.007662</td>\n",
       "      <td>0.315822</td>\n",
       "    </tr>\n",
       "    <tr>\n",
       "      <th>Duration</th>\n",
       "      <td>-0.064902</td>\n",
       "      <td>1.000000</td>\n",
       "      <td>0.073769</td>\n",
       "      <td>-0.009084</td>\n",
       "      <td>0.108576</td>\n",
       "      <td>0.051417</td>\n",
       "      <td>0.066187</td>\n",
       "      <td>0.054065</td>\n",
       "      <td>0.018057</td>\n",
       "      <td>-0.007757</td>\n",
       "      <td>0.112830</td>\n",
       "    </tr>\n",
       "    <tr>\n",
       "      <th>Peak_energy</th>\n",
       "      <td>0.311952</td>\n",
       "      <td>0.073769</td>\n",
       "      <td>1.000000</td>\n",
       "      <td>0.009637</td>\n",
       "      <td>0.174848</td>\n",
       "      <td>0.275077</td>\n",
       "      <td>0.229461</td>\n",
       "      <td>0.164295</td>\n",
       "      <td>-0.078696</td>\n",
       "      <td>0.005921</td>\n",
       "      <td>0.273113</td>\n",
       "    </tr>\n",
       "    <tr>\n",
       "      <th>Central_PA</th>\n",
       "      <td>0.004265</td>\n",
       "      <td>-0.009084</td>\n",
       "      <td>0.009637</td>\n",
       "      <td>1.000000</td>\n",
       "      <td>0.005032</td>\n",
       "      <td>-0.003500</td>\n",
       "      <td>0.044848</td>\n",
       "      <td>0.019331</td>\n",
       "      <td>0.051290</td>\n",
       "      <td>0.918480</td>\n",
       "      <td>0.025560</td>\n",
       "    </tr>\n",
       "    <tr>\n",
       "      <th>Width</th>\n",
       "      <td>0.122508</td>\n",
       "      <td>0.108576</td>\n",
       "      <td>0.174848</td>\n",
       "      <td>0.005032</td>\n",
       "      <td>1.000000</td>\n",
       "      <td>0.373034</td>\n",
       "      <td>0.360681</td>\n",
       "      <td>0.146633</td>\n",
       "      <td>-0.082810</td>\n",
       "      <td>-0.011195</td>\n",
       "      <td>0.509378</td>\n",
       "    </tr>\n",
       "    <tr>\n",
       "      <th>2_I_speed</th>\n",
       "      <td>0.275094</td>\n",
       "      <td>0.051417</td>\n",
       "      <td>0.275077</td>\n",
       "      <td>-0.003500</td>\n",
       "      <td>0.373034</td>\n",
       "      <td>1.000000</td>\n",
       "      <td>0.730188</td>\n",
       "      <td>0.392384</td>\n",
       "      <td>-0.366090</td>\n",
       "      <td>-0.009444</td>\n",
       "      <td>0.636614</td>\n",
       "    </tr>\n",
       "    <tr>\n",
       "      <th>2_F_speed</th>\n",
       "      <td>0.204296</td>\n",
       "      <td>0.066187</td>\n",
       "      <td>0.229461</td>\n",
       "      <td>0.044848</td>\n",
       "      <td>0.360681</td>\n",
       "      <td>0.730188</td>\n",
       "      <td>1.000000</td>\n",
       "      <td>0.636501</td>\n",
       "      <td>0.167726</td>\n",
       "      <td>0.033031</td>\n",
       "      <td>0.667344</td>\n",
       "    </tr>\n",
       "    <tr>\n",
       "      <th>2_20R_speed</th>\n",
       "      <td>0.122487</td>\n",
       "      <td>0.054065</td>\n",
       "      <td>0.164295</td>\n",
       "      <td>0.019331</td>\n",
       "      <td>0.146633</td>\n",
       "      <td>0.392384</td>\n",
       "      <td>0.636501</td>\n",
       "      <td>1.000000</td>\n",
       "      <td>0.392714</td>\n",
       "      <td>0.014539</td>\n",
       "      <td>0.313167</td>\n",
       "    </tr>\n",
       "    <tr>\n",
       "      <th>Acceleration</th>\n",
       "      <td>-0.095990</td>\n",
       "      <td>0.018057</td>\n",
       "      <td>-0.078696</td>\n",
       "      <td>0.051290</td>\n",
       "      <td>-0.082810</td>\n",
       "      <td>-0.366090</td>\n",
       "      <td>0.167726</td>\n",
       "      <td>0.392714</td>\n",
       "      <td>1.000000</td>\n",
       "      <td>0.042177</td>\n",
       "      <td>-0.094224</td>\n",
       "    </tr>\n",
       "    <tr>\n",
       "      <th>MPA</th>\n",
       "      <td>-0.007662</td>\n",
       "      <td>-0.007757</td>\n",
       "      <td>0.005921</td>\n",
       "      <td>0.918480</td>\n",
       "      <td>-0.011195</td>\n",
       "      <td>-0.009444</td>\n",
       "      <td>0.033031</td>\n",
       "      <td>0.014539</td>\n",
       "      <td>0.042177</td>\n",
       "      <td>1.000000</td>\n",
       "      <td>0.012262</td>\n",
       "    </tr>\n",
       "    <tr>\n",
       "      <th>Class</th>\n",
       "      <td>0.315822</td>\n",
       "      <td>0.112830</td>\n",
       "      <td>0.273113</td>\n",
       "      <td>0.025560</td>\n",
       "      <td>0.509378</td>\n",
       "      <td>0.636614</td>\n",
       "      <td>0.667344</td>\n",
       "      <td>0.313167</td>\n",
       "      <td>-0.094224</td>\n",
       "      <td>0.012262</td>\n",
       "      <td>1.000000</td>\n",
       "    </tr>\n",
       "  </tbody>\n",
       "</table>\n",
       "</div>"
      ],
      "text/plain": [
       "                 Spots  Duration  Peak_energy  Central_PA     Width  \\\n",
       "Spots         1.000000 -0.064902     0.311952    0.004265  0.122508   \n",
       "Duration     -0.064902  1.000000     0.073769   -0.009084  0.108576   \n",
       "Peak_energy   0.311952  0.073769     1.000000    0.009637  0.174848   \n",
       "Central_PA    0.004265 -0.009084     0.009637    1.000000  0.005032   \n",
       "Width         0.122508  0.108576     0.174848    0.005032  1.000000   \n",
       "2_I_speed     0.275094  0.051417     0.275077   -0.003500  0.373034   \n",
       "2_F_speed     0.204296  0.066187     0.229461    0.044848  0.360681   \n",
       "2_20R_speed   0.122487  0.054065     0.164295    0.019331  0.146633   \n",
       "Acceleration -0.095990  0.018057    -0.078696    0.051290 -0.082810   \n",
       "MPA          -0.007662 -0.007757     0.005921    0.918480 -0.011195   \n",
       "Class         0.315822  0.112830     0.273113    0.025560  0.509378   \n",
       "\n",
       "              2_I_speed  2_F_speed  2_20R_speed  Acceleration       MPA  \\\n",
       "Spots          0.275094   0.204296     0.122487     -0.095990 -0.007662   \n",
       "Duration       0.051417   0.066187     0.054065      0.018057 -0.007757   \n",
       "Peak_energy    0.275077   0.229461     0.164295     -0.078696  0.005921   \n",
       "Central_PA    -0.003500   0.044848     0.019331      0.051290  0.918480   \n",
       "Width          0.373034   0.360681     0.146633     -0.082810 -0.011195   \n",
       "2_I_speed      1.000000   0.730188     0.392384     -0.366090 -0.009444   \n",
       "2_F_speed      0.730188   1.000000     0.636501      0.167726  0.033031   \n",
       "2_20R_speed    0.392384   0.636501     1.000000      0.392714  0.014539   \n",
       "Acceleration  -0.366090   0.167726     0.392714      1.000000  0.042177   \n",
       "MPA           -0.009444   0.033031     0.014539      0.042177  1.000000   \n",
       "Class          0.636614   0.667344     0.313167     -0.094224  0.012262   \n",
       "\n",
       "                 Class  \n",
       "Spots         0.315822  \n",
       "Duration      0.112830  \n",
       "Peak_energy   0.273113  \n",
       "Central_PA    0.025560  \n",
       "Width         0.509378  \n",
       "2_I_speed     0.636614  \n",
       "2_F_speed     0.667344  \n",
       "2_20R_speed   0.313167  \n",
       "Acceleration -0.094224  \n",
       "MPA           0.012262  \n",
       "Class         1.000000  "
      ]
     },
     "execution_count": 6,
     "metadata": {},
     "output_type": "execute_result"
    }
   ],
   "source": [
    "# Y en números\n",
    "SFC.corr()"
   ]
  },
  {
   "cell_type": "markdown",
   "metadata": {},
   "source": [
    "Las columnas \"Central_PA\", \"MPA\" y \"Acceleration\" tienen una correlación muy baja con \"Class\", por lo tanto\n",
    "no las consideraremos. Asímismo, las columnas \"2_I_speed\" y \"2_F_speed\" están bastante correlacionadas entre\n",
    "si, con lo cual nos quedaremos solo con \"2_I_speed\", que está menos correlacionada con \"2_20R_speed\"."
   ]
  },
  {
   "cell_type": "code",
   "execution_count": 7,
   "metadata": {},
   "outputs": [],
   "source": [
    "# Entonces, con lo que hemos dicho:\n",
    "# Features\n",
    "X = SFC[['Spots', 'Duration', 'Peak_energy', 'Width', '2_I_speed', '2_20R_speed']]\n",
    "# Target\n",
    "Y = SFC['Class']"
   ]
  },
  {
   "cell_type": "code",
   "execution_count": 8,
   "metadata": {},
   "outputs": [],
   "source": [
    "# Dividimos nuestros datos en conjuntos de train y test, al 85-15 para maximizar los datos de entrenamiento\n",
    "# sin perder variabilidad\n",
    "X_train, X_test, Y_train, Y_test = train_test_split(X, Y, test_size = 0.15, random_state = 0)"
   ]
  },
  {
   "cell_type": "code",
   "execution_count": 9,
   "metadata": {},
   "outputs": [
    {
     "name": "stdout",
     "output_type": "stream",
     "text": [
      "Tamaño total: 4294\n",
      "Tamaño train: 3649\n",
      "Tamaño test: 645\n"
     ]
    }
   ],
   "source": [
    "# Comprobamos\n",
    "print(f'Tamaño total: {len(X)}')\n",
    "print(f'Tamaño train: {len(X_train)}')\n",
    "print(f'Tamaño test: {len(X_test)}')"
   ]
  },
  {
   "cell_type": "code",
   "execution_count": 10,
   "metadata": {},
   "outputs": [
    {
     "data": {
      "text/plain": [
       "<matplotlib.axes._subplots.AxesSubplot at 0x7f62963fb550>"
      ]
     },
     "execution_count": 10,
     "metadata": {},
     "output_type": "execute_result"
    },
    {
     "data": {
      "image/png": "[encoded data removed]",
      "text/plain": [
       "<Figure size 720x360 with 1 Axes>"
      ]
     },
     "metadata": {},
     "output_type": "display_data"
    }
   ],
   "source": [
    "# Vamos a ver la distribución de nuestra variable target, \"Class\"\n",
    "sns.set(rc = {'figure.figsize': (10, 5)})\n",
    "sns.distplot(SFC['Class'])"
   ]
  },
  {
   "cell_type": "markdown",
   "metadata": {},
   "source": [
    "Vamos a modelizar. Utilizaremos f1_score como métrica, nos interesa pues es una combinación de precision y recall."
   ]
  },
  {
   "cell_type": "code",
   "execution_count": 11,
   "metadata": {},
   "outputs": [],
   "source": [
    "# Para ello crearemos un \"scorer\", dado que por ejemplo para validación cruzada no se puede usar simplemente f1.\n",
    "# Lo hacemos con la opción \"weighted\" para la media\n",
    "f1_scorer = make_scorer(sklearn.metrics.f1_score, average = 'weighted')"
   ]
  },
  {
   "cell_type": "markdown",
   "metadata": {},
   "source": [
    "### LOGISTIC REGRESSION"
   ]
  },
  {
   "cell_type": "code",
   "execution_count": 12,
   "metadata": {},
   "outputs": [
    {
     "data": {
      "text/plain": [
       "LogisticRegression(C=1.0, class_weight=None, dual=False, fit_intercept=True,\n",
       "                   intercept_scaling=1, l1_ratio=None, max_iter=100,\n",
       "                   multi_class='ovr', n_jobs=None, penalty='l2', random_state=0,\n",
       "                   solver='lbfgs', tol=0.0001, verbose=0, warm_start=False)"
      ]
     },
     "execution_count": 12,
     "metadata": {},
     "output_type": "execute_result"
    }
   ],
   "source": [
    "# Creamos la instancia y entrenamos\n",
    "log = LogisticRegression(multi_class = 'ovr', random_state = 0)\n",
    "log.fit(X_train, Y_train)"
   ]
  },
  {
   "cell_type": "code",
   "execution_count": 13,
   "metadata": {},
   "outputs": [
    {
     "name": "stdout",
     "output_type": "stream",
     "text": [
      "f1_score: 55.4%\n"
     ]
    }
   ],
   "source": [
    "# Métrica inicial en train\n",
    "log_f1 = f1_scorer(log, X_train, Y_train)\n",
    "print(f'f1_score: {log_f1:.1%}')"
   ]
  },
  {
   "cell_type": "code",
   "execution_count": 14,
   "metadata": {},
   "outputs": [
    {
     "name": "stdout",
     "output_type": "stream",
     "text": [
      "cv_f1_score: 55.0%\n"
     ]
    }
   ],
   "source": [
    "# Hacemos validación cruzada y vemos la media\n",
    "log_f1_cv = cross_val_score(log, X_train, Y_train, cv = 10, scoring = f1_scorer).mean()\n",
    "print(f'cv_f1_score: {log_f1_cv:.1%}')"
   ]
  },
  {
   "cell_type": "code",
   "execution_count": 15,
   "metadata": {},
   "outputs": [
    {
     "data": {
      "text/plain": [
       "GridSearchCV(cv=10, error_score=nan,\n",
       "             estimator=LogisticRegression(C=1.0, class_weight=None, dual=False,\n",
       "                                          fit_intercept=True,\n",
       "                                          intercept_scaling=1, l1_ratio=None,\n",
       "                                          max_iter=100, multi_class='ovr',\n",
       "                                          n_jobs=None, penalty='l2',\n",
       "                                          random_state=0, solver='lbfgs',\n",
       "                                          tol=0.0001, verbose=0,\n",
       "                                          warm_start=False),\n",
       "             iid='deprecated', n_jobs=None,\n",
       "             param_grid={'C': [0.0001, 0.001, 0.01, 0.1, 1, 10, 100, 1000]},\n",
       "             pre_dispatch='2*n_jobs', refit=True, return_train_score=False,\n",
       "             scoring=make_scorer(f1_score, average=weighted), verbose=0)"
      ]
     },
     "execution_count": 15,
     "metadata": {},
     "output_type": "execute_result"
    }
   ],
   "source": [
    "# Vamos a optimizar el modelo\n",
    "param_grid = {'C': [0.0001, 0.001, 0.01, 0.1, 1, 10, 100, 1000]}\n",
    "log_grid = GridSearchCV(log, param_grid, cv = 10, scoring = f1_scorer)\n",
    "log_grid.fit(X_train, Y_train)"
   ]
  },
  {
   "cell_type": "code",
   "execution_count": 16,
   "metadata": {},
   "outputs": [
    {
     "name": "stdout",
     "output_type": "stream",
     "text": [
      "Grid f1_score: 55.0%\n",
      "Best parameters: {'C': 0.001}\n"
     ]
    }
   ],
   "source": [
    "# Mejor métrica y parámetros encontrados\n",
    "print(f'Grid f1_score: {log_grid.best_score_:.1%}') \n",
    "print(f'Best parameters: {log_grid.best_params_:}')"
   ]
  },
  {
   "cell_type": "code",
   "execution_count": 17,
   "metadata": {},
   "outputs": [],
   "source": [
    "# Entrenamos el modelo final con dichos parámetros\n",
    "log_best = LogisticRegression(multi_class = 'ovr', C = 0.001, random_state = 0)\n",
    "log_best.fit(X_train, Y_train)\n",
    "log_best_model = log_best.fit(X_train, Y_train)"
   ]
  },
  {
   "cell_type": "code",
   "execution_count": 18,
   "metadata": {},
   "outputs": [
    {
     "name": "stdout",
     "output_type": "stream",
     "text": [
      "best_f1_score: 52.9%\n"
     ]
    }
   ],
   "source": [
    "# Comprobamos el modelo final con los datos de test\n",
    "log_f1_best = f1_scorer(log_best, X_test, Y_test)\n",
    "print(f'best_f1_score: {log_f1_best:.1%}')"
   ]
  },
  {
   "cell_type": "code",
   "execution_count": 19,
   "metadata": {},
   "outputs": [
    {
     "name": "stdout",
     "output_type": "stream",
     "text": [
      "              precision    recall  f1-score   support\n",
      "\n",
      "           1       0.00      0.00      0.00         3\n",
      "           2       0.00      0.00      0.00        24\n",
      "           3       0.49      0.25      0.33       124\n",
      "           4       0.49      0.76      0.60       237\n",
      "           5       0.66      0.60      0.63       219\n",
      "           6       0.79      0.39      0.53        38\n",
      "\n",
      "    accuracy                           0.56       645\n",
      "   macro avg       0.41      0.33      0.35       645\n",
      "weighted avg       0.55      0.56      0.53       645\n",
      "\n"
     ]
    },
    {
     "data": {
      "text/plain": [
       "<sklearn.metrics._plot.confusion_matrix.ConfusionMatrixDisplay at 0x7f62963cbed0>"
      ]
     },
     "execution_count": 19,
     "metadata": {},
     "output_type": "execute_result"
    },
    {
     "data": {
      "image/png": "[encoded data removed]",
      "text/plain": [
       "<Figure size 720x360 with 2 Axes>"
      ]
     },
     "metadata": {},
     "output_type": "display_data"
    }
   ],
   "source": [
    "# Classification report y matriz de confusión\n",
    "print(classification_report(Y_test, log_best.predict(X_test)))\n",
    "plot_confusion_matrix(log_best_model, X_test, Y_test)"
   ]
  },
  {
   "cell_type": "markdown",
   "metadata": {},
   "source": [
    "### K-NEIGHBORS"
   ]
  },
  {
   "cell_type": "code",
   "execution_count": 20,
   "metadata": {},
   "outputs": [],
   "source": [
    "# Este método está basado en distancias, por lo tanto vamos a escalar los datos\n",
    "ss = StandardScaler()\n",
    "X_scaled_train = ss.fit_transform(X_train)\n",
    "X_scaled_test = ss.fit_transform(X_test)"
   ]
  },
  {
   "cell_type": "code",
   "execution_count": 21,
   "metadata": {},
   "outputs": [
    {
     "data": {
      "text/plain": [
       "KNeighborsClassifier(algorithm='auto', leaf_size=30, metric='minkowski',\n",
       "                     metric_params=None, n_jobs=None, n_neighbors=10, p=2,\n",
       "                     weights='uniform')"
      ]
     },
     "execution_count": 21,
     "metadata": {},
     "output_type": "execute_result"
    }
   ],
   "source": [
    "# Comenzamos con un valor aleatorio de n_neighbors\n",
    "n_neighbors = 10\n",
    "knn = KNeighborsClassifier(n_neighbors)\n",
    "knn.fit(X_scaled_train, Y_train)"
   ]
  },
  {
   "cell_type": "code",
   "execution_count": 22,
   "metadata": {},
   "outputs": [
    {
     "name": "stdout",
     "output_type": "stream",
     "text": [
      "f1_score: 65.0%\n"
     ]
    }
   ],
   "source": [
    "# Métrica inicial\n",
    "knn_f1 = f1_scorer(knn, X_scaled_train, Y_train)\n",
    "print(f'f1_score: {knn_f1:.1%}')"
   ]
  },
  {
   "cell_type": "code",
   "execution_count": 23,
   "metadata": {},
   "outputs": [
    {
     "name": "stdout",
     "output_type": "stream",
     "text": [
      "cv_f1_score: 56.8%\n"
     ]
    }
   ],
   "source": [
    "# Validación cruzada\n",
    "knn_f1_cv = cross_val_score(knn, X_scaled_train, Y_train, cv = 10, scoring = f1_scorer).mean()\n",
    "print(f'cv_f1_score: {knn_f1_cv:.1%}')"
   ]
  },
  {
   "cell_type": "code",
   "execution_count": 24,
   "metadata": {},
   "outputs": [
    {
     "data": {
      "text/plain": [
       "GridSearchCV(cv=10, error_score=nan,\n",
       "             estimator=KNeighborsClassifier(algorithm='auto', leaf_size=30,\n",
       "                                            metric='minkowski',\n",
       "                                            metric_params=None, n_jobs=None,\n",
       "                                            n_neighbors=10, p=2,\n",
       "                                            weights='uniform'),\n",
       "             iid='deprecated', n_jobs=None,\n",
       "             param_grid={'n_neighbors': array([ 1,  2,  3,  4,  5,  6,  7,  8,  9, 10, 11, 12, 13, 14, 15, 16, 17,\n",
       "       18, 19, 20, 21, 22, 23, 24, 25, 26, 27, 28, 29, 30, 31, 32, 33, 34,\n",
       "       35, 36, 37, 38, 39, 40, 41, 42, 43, 44, 45, 46, 47, 48, 49])},\n",
       "             pre_dispatch='2*n_jobs', refit=True, return_train_score=False,\n",
       "             scoring=make_scorer(f1_score, average=weighted), verbose=0)"
      ]
     },
     "execution_count": 24,
     "metadata": {},
     "output_type": "execute_result"
    }
   ],
   "source": [
    "# Optimización\n",
    "param_grid = {'n_neighbors': np.arange(1, 50)}\n",
    "knn_grid = GridSearchCV(knn, param_grid, cv = 10, scoring = f1_scorer)\n",
    "knn_grid.fit(X_scaled_train, Y_train)"
   ]
  },
  {
   "cell_type": "code",
   "execution_count": 25,
   "metadata": {},
   "outputs": [
    {
     "name": "stdout",
     "output_type": "stream",
     "text": [
      "Grid f1_score: 58.9%\n",
      "Best parameters: {'n_neighbors': 37}\n"
     ]
    }
   ],
   "source": [
    "# Mejor métrica y parámetros\n",
    "print(f'Grid f1_score: {knn_grid.best_score_:.1%}') \n",
    "print(f'Best parameters: {knn_grid.best_params_:}')"
   ]
  },
  {
   "cell_type": "code",
   "execution_count": 26,
   "metadata": {},
   "outputs": [],
   "source": [
    "# Modelo final\n",
    "n_neighbors = 37\n",
    "knn_best = KNeighborsClassifier(n_neighbors)\n",
    "knn_best.fit(X_scaled_train, Y_train)\n",
    "knn_best_model = knn_best.fit(X_scaled_train, Y_train)"
   ]
  },
  {
   "cell_type": "code",
   "execution_count": 27,
   "metadata": {},
   "outputs": [
    {
     "name": "stdout",
     "output_type": "stream",
     "text": [
      "best_f1_score: 57.3%\n"
     ]
    }
   ],
   "source": [
    "# Comprobamos modelo final con los datos de test\n",
    "knn_f1_best = f1_scorer(knn_best, X_scaled_test, Y_test)\n",
    "print(f'best_f1_score: {knn_f1_best:.1%}')"
   ]
  },
  {
   "cell_type": "code",
   "execution_count": 28,
   "metadata": {},
   "outputs": [
    {
     "name": "stdout",
     "output_type": "stream",
     "text": [
      "              precision    recall  f1-score   support\n",
      "\n",
      "           1       0.00      0.00      0.00         3\n",
      "           2       0.75      0.12      0.21        24\n",
      "           3       0.55      0.40      0.47       124\n",
      "           4       0.54      0.66      0.59       237\n",
      "           5       0.64      0.70      0.67       219\n",
      "           6       0.74      0.37      0.49        38\n",
      "\n",
      "    accuracy                           0.59       645\n",
      "   macro avg       0.54      0.38      0.41       645\n",
      "weighted avg       0.59      0.59      0.57       645\n",
      "\n"
     ]
    },
    {
     "data": {
      "text/plain": [
       "<sklearn.metrics._plot.confusion_matrix.ConfusionMatrixDisplay at 0x7f62941a10d0>"
      ]
     },
     "execution_count": 28,
     "metadata": {},
     "output_type": "execute_result"
    },
    {
     "data": {
      "image/png": "[encoded data removed]",
      "text/plain": [
       "<Figure size 720x360 with 2 Axes>"
      ]
     },
     "metadata": {},
     "output_type": "display_data"
    }
   ],
   "source": [
    "# Classification report y matriz de confusión\n",
    "print(classification_report(Y_test, knn_best.predict(X_scaled_test)))\n",
    "plot_confusion_matrix(knn_best_model, X_scaled_test, Y_test)"
   ]
  },
  {
   "cell_type": "markdown",
   "metadata": {},
   "source": [
    "### SVM"
   ]
  },
  {
   "cell_type": "code",
   "execution_count": 29,
   "metadata": {},
   "outputs": [
    {
     "data": {
      "text/plain": [
       "SVC(C=1.0, break_ties=False, cache_size=200, class_weight=None, coef0=0.0,\n",
       "    decision_function_shape='ovr', degree=3, gamma='scale', kernel='rbf',\n",
       "    max_iter=-1, probability=False, random_state=0, shrinking=True, tol=0.001,\n",
       "    verbose=False)"
      ]
     },
     "execution_count": 29,
     "metadata": {},
     "output_type": "execute_result"
    }
   ],
   "source": [
    "# Modelo inicial\n",
    "svc = SVC(random_state = 0)\n",
    "svc.fit(X_train, Y_train)"
   ]
  },
  {
   "cell_type": "code",
   "execution_count": 30,
   "metadata": {},
   "outputs": [
    {
     "name": "stdout",
     "output_type": "stream",
     "text": [
      "f1_score: 55.4%\n"
     ]
    }
   ],
   "source": [
    "# Métrica inicial en train\n",
    "svc_f1 = f1_scorer(svc, X_train, Y_train)\n",
    "print(f'f1_score: {log_f1:.1%}')"
   ]
  },
  {
   "cell_type": "code",
   "execution_count": 31,
   "metadata": {},
   "outputs": [
    {
     "name": "stdout",
     "output_type": "stream",
     "text": [
      "cv_f1_score: 57.1%\n"
     ]
    }
   ],
   "source": [
    "# Validación cruzada\n",
    "svc_f1_cv = cross_val_score(svc, X_train, Y_train, cv = 10, scoring = f1_scorer).mean()\n",
    "print(f'cv_f1_score: {svc_f1_cv:.1%}')"
   ]
  },
  {
   "cell_type": "code",
   "execution_count": 32,
   "metadata": {},
   "outputs": [
    {
     "data": {
      "text/plain": [
       "GridSearchCV(cv=10, error_score=nan,\n",
       "             estimator=SVC(C=1.0, break_ties=False, cache_size=200,\n",
       "                           class_weight=None, coef0=0.0,\n",
       "                           decision_function_shape='ovr', degree=3,\n",
       "                           gamma='scale', kernel='rbf', max_iter=-1,\n",
       "                           probability=False, random_state=0, shrinking=True,\n",
       "                           tol=0.001, verbose=False),\n",
       "             iid='deprecated', n_jobs=None, param_grid={'C': [0.1, 1, 10, 100]},\n",
       "             pre_dispatch='2*n_jobs', refit=True, return_train_score=False,\n",
       "             scoring=make_scorer(f1_score, average=weighted), verbose=0)"
      ]
     },
     "execution_count": 32,
     "metadata": {},
     "output_type": "execute_result"
    }
   ],
   "source": [
    "# Optimización\n",
    "param_grid = {'C': [0.1, 1, 10, 100]}\n",
    "svc_grid = GridSearchCV(svc, param_grid, cv = 10, scoring = f1_scorer)\n",
    "svc_grid.fit(X_train, Y_train)"
   ]
  },
  {
   "cell_type": "code",
   "execution_count": 33,
   "metadata": {},
   "outputs": [
    {
     "name": "stdout",
     "output_type": "stream",
     "text": [
      "Grid f1_score: 60.2%\n",
      "Best parameters: {'C': 100}\n"
     ]
    }
   ],
   "source": [
    "# Mejor métrica y parámetros\n",
    "print(f'Grid f1_score: {svc_grid.best_score_:.1%}') \n",
    "print(f'Best parameters: {svc_grid.best_params_:}')"
   ]
  },
  {
   "cell_type": "code",
   "execution_count": 34,
   "metadata": {},
   "outputs": [],
   "source": [
    "# Mejor modelo\n",
    "svc_best = SVC(C = 100, random_state = 0)\n",
    "svc_best.fit(X_train, Y_train)\n",
    "svc_best_model = svc_best.fit(X_train, Y_train)"
   ]
  },
  {
   "cell_type": "code",
   "execution_count": 35,
   "metadata": {},
   "outputs": [
    {
     "name": "stdout",
     "output_type": "stream",
     "text": [
      "best_f1_score: 60.3%\n"
     ]
    }
   ],
   "source": [
    "# Métrica final del mejor modelo con los datos de test\n",
    "svc_f1_best = f1_scorer(svc_best, X_test, Y_test)\n",
    "print(f'best_f1_score: {svc_f1_best:.1%}')"
   ]
  },
  {
   "cell_type": "code",
   "execution_count": 36,
   "metadata": {},
   "outputs": [
    {
     "name": "stdout",
     "output_type": "stream",
     "text": [
      "              precision    recall  f1-score   support\n",
      "\n",
      "           1       0.00      0.00      0.00         3\n",
      "           2       0.00      0.00      0.00        24\n",
      "           3       0.59      0.61      0.60       124\n",
      "           4       0.58      0.71      0.64       237\n",
      "           5       0.67      0.62      0.65       219\n",
      "           6       0.78      0.47      0.59        38\n",
      "\n",
      "    accuracy                           0.62       645\n",
      "   macro avg       0.44      0.40      0.41       645\n",
      "weighted avg       0.60      0.62      0.60       645\n",
      "\n"
     ]
    },
    {
     "data": {
      "text/plain": [
       "<sklearn.metrics._plot.confusion_matrix.ConfusionMatrixDisplay at 0x7f62963487d0>"
      ]
     },
     "execution_count": 36,
     "metadata": {},
     "output_type": "execute_result"
    },
    {
     "data": {
      "image/png": "[encoded data removed]",
      "text/plain": [
       "<Figure size 720x360 with 2 Axes>"
      ]
     },
     "metadata": {},
     "output_type": "display_data"
    }
   ],
   "source": [
    "# Classification report y matriz de confusión\n",
    "print(classification_report(Y_test, svc_best.predict(X_test)))\n",
    "plot_confusion_matrix(svc_best_model, X_test, Y_test)"
   ]
  },
  {
   "cell_type": "markdown",
   "metadata": {},
   "source": [
    "### XGBoost"
   ]
  },
  {
   "cell_type": "code",
   "execution_count": 37,
   "metadata": {},
   "outputs": [
    {
     "data": {
      "text/plain": [
       "XGBClassifier(base_score=0.5, booster='gbtree', colsample_bylevel=1,\n",
       "              colsample_bynode=1, colsample_bytree=1, gamma=0, gpu_id=-1,\n",
       "              importance_type='gain', interaction_constraints='',\n",
       "              learning_rate=0.300000012, max_delta_step=0, max_depth=6,\n",
       "              min_child_weight=1, missing=nan, monotone_constraints='()',\n",
       "              n_estimators=100, n_jobs=0, num_parallel_tree=1,\n",
       "              objective='multi:softprob', random_state=0, reg_alpha=0,\n",
       "              reg_lambda=1, scale_pos_weight=None, subsample=1,\n",
       "              tree_method='exact', validate_parameters=1, verbosity=None)"
      ]
     },
     "execution_count": 37,
     "metadata": {},
     "output_type": "execute_result"
    }
   ],
   "source": [
    "# Modelo inicial\n",
    "xgb = XGBClassifier()\n",
    "xgb.fit(X_train, Y_train)"
   ]
  },
  {
   "cell_type": "code",
   "execution_count": 38,
   "metadata": {},
   "outputs": [
    {
     "name": "stdout",
     "output_type": "stream",
     "text": [
      "f1_score: 99.0%\n"
     ]
    }
   ],
   "source": [
    "# Métrica inicial\n",
    "xgb_f1 = f1_scorer(xgb, X_train, Y_train)\n",
    "print(f'f1_score: {xgb_f1:.1%}')"
   ]
  },
  {
   "cell_type": "code",
   "execution_count": 39,
   "metadata": {},
   "outputs": [
    {
     "name": "stdout",
     "output_type": "stream",
     "text": [
      "f1_score: 56.4%\n"
     ]
    }
   ],
   "source": [
    "# Esta métrica es irreal, se debe a que debemos \"tunearlo\", de hecho si comprobamos en test, el resultado es muy distinto...\n",
    "xgb_f1 = f1_scorer(xgb, X_test, Y_test)\n",
    "print(f'f1_score: {xgb_f1:.1%}')"
   ]
  },
  {
   "cell_type": "code",
   "execution_count": 40,
   "metadata": {},
   "outputs": [
    {
     "name": "stdout",
     "output_type": "stream",
     "text": [
      "cv_f1_score: 58.4%\n"
     ]
    }
   ],
   "source": [
    "# Validación cruzada\n",
    "xgb_f1_cv = cross_val_score(xgb, X_train, Y_train, cv = 10, scoring = f1_scorer).mean()\n",
    "print(f'cv_f1_score: {xgb_f1_cv:.1%}')"
   ]
  },
  {
   "cell_type": "code",
   "execution_count": 41,
   "metadata": {},
   "outputs": [
    {
     "data": {
      "text/plain": [
       "RandomizedSearchCV(cv=10, error_score=nan,\n",
       "                   estimator=XGBClassifier(base_score=0.5, booster='gbtree',\n",
       "                                           colsample_bylevel=1,\n",
       "                                           colsample_bynode=1,\n",
       "                                           colsample_bytree=1, gamma=0,\n",
       "                                           gpu_id=-1, importance_type='gain',\n",
       "                                           interaction_constraints='',\n",
       "                                           learning_rate=0.300000012,\n",
       "                                           max_delta_step=0, max_depth=6,\n",
       "                                           min_child_weight=1, missing=nan,\n",
       "                                           monotone_constraints='()',\n",
       "                                           n_estimators=10...\n",
       "                                           validate_parameters=1,\n",
       "                                           verbosity=None),\n",
       "                   iid='deprecated', n_iter=10, n_jobs=None,\n",
       "                   param_distributions={'learning_rate': array([0.1, 0.2, 0.3, 0.4]),\n",
       "                                        'max_depth': array([2, 3, 4, 5, 6, 7, 8, 9]),\n",
       "                                        'n_estimators': array([ 10, 210, 410, 610, 810])},\n",
       "                   pre_dispatch='2*n_jobs', random_state=None, refit=True,\n",
       "                   return_train_score=False,\n",
       "                   scoring=make_scorer(f1_score, average=weighted), verbose=0)"
      ]
     },
     "execution_count": 41,
     "metadata": {},
     "output_type": "execute_result"
    }
   ],
   "source": [
    "# Optimización\n",
    "param_grid = {'n_estimators': np.arange(10, 1000, 200), 'max_depth': np.arange(2, 10, 1),\n",
    "              'learning_rate': np.arange(0.1, 0.5, 0.1)}\n",
    "xgb_grid = RandomizedSearchCV(xgb, param_grid, cv = 10, scoring = f1_scorer)\n",
    "xgb_grid.fit(X_train, Y_train)"
   ]
  },
  {
   "cell_type": "code",
   "execution_count": 42,
   "metadata": {},
   "outputs": [
    {
     "name": "stdout",
     "output_type": "stream",
     "text": [
      "Grid f1_score: 59.7%\n",
      "Best parameters: {'n_estimators': 210, 'max_depth': 2, 'learning_rate': 0.2}\n"
     ]
    }
   ],
   "source": [
    "# Mejor métrica y parámetros\n",
    "print(f'Grid f1_score: {xgb_grid.best_score_:.1%}') \n",
    "print(f'Best parameters: {xgb_grid.best_params_:}')"
   ]
  },
  {
   "cell_type": "code",
   "execution_count": 43,
   "metadata": {},
   "outputs": [],
   "source": [
    "# Mejor modelo\n",
    "xgb_best = XGBClassifier(n_estimators = 210, max_depth = 2, learning_rate = 0.2)\n",
    "xgb_best.fit(X_train, Y_train)\n",
    "xgb_best_model = xgb_best.fit(X_train, Y_train)\n",
    "# Nota: Al haberse hecho la búsqueda de parámetros con RandomizedSearchCV, puede que en otra ejecución del código\n",
    "# los parámetros sean distintos, cambiando por tanto el f1_score."
   ]
  },
  {
   "cell_type": "code",
   "execution_count": 44,
   "metadata": {},
   "outputs": [
    {
     "name": "stdout",
     "output_type": "stream",
     "text": [
      "best_f1_score: 60.2%\n"
     ]
    }
   ],
   "source": [
    "# Métrica final del mejor modelo con los datos de test\n",
    "xgb_f1_best = f1_scorer(xgb_best, X_test, Y_test)\n",
    "print(f'best_f1_score: {xgb_f1_best:.1%}')"
   ]
  },
  {
   "cell_type": "code",
   "execution_count": 45,
   "metadata": {},
   "outputs": [
    {
     "name": "stdout",
     "output_type": "stream",
     "text": [
      "              precision    recall  f1-score   support\n",
      "\n",
      "           1       0.00      0.00      0.00         3\n",
      "           2       0.86      0.25      0.39        24\n",
      "           3       0.59      0.60      0.60       124\n",
      "           4       0.59      0.67      0.62       237\n",
      "           5       0.65      0.60      0.63       219\n",
      "           6       0.53      0.53      0.53        38\n",
      "\n",
      "    accuracy                           0.61       645\n",
      "   macro avg       0.53      0.44      0.46       645\n",
      "weighted avg       0.61      0.61      0.60       645\n",
      "\n"
     ]
    },
    {
     "data": {
      "text/plain": [
       "<sklearn.metrics._plot.confusion_matrix.ConfusionMatrixDisplay at 0x7f62876ee2d0>"
      ]
     },
     "execution_count": 45,
     "metadata": {},
     "output_type": "execute_result"
    },
    {
     "data": {
      "image/png": "[encoded data removed]",
      "text/plain": [
       "<Figure size 720x360 with 2 Axes>"
      ]
     },
     "metadata": {},
     "output_type": "display_data"
    }
   ],
   "source": [
    "# Classification report y matriz de confusión\n",
    "print(classification_report(Y_test, xgb_best.predict(X_test)))\n",
    "plot_confusion_matrix(xgb_best_model, X_test, Y_test)"
   ]
  },
  {
   "cell_type": "markdown",
   "metadata": {},
   "source": [
    "### DECISION TREE"
   ]
  },
  {
   "cell_type": "code",
   "execution_count": 46,
   "metadata": {},
   "outputs": [
    {
     "data": {
      "text/plain": [
       "DecisionTreeClassifier(ccp_alpha=0.0, class_weight=None, criterion='gini',\n",
       "                       max_depth=None, max_features=None, max_leaf_nodes=None,\n",
       "                       min_impurity_decrease=0.0, min_impurity_split=None,\n",
       "                       min_samples_leaf=1, min_samples_split=2,\n",
       "                       min_weight_fraction_leaf=0.0, presort='deprecated',\n",
       "                       random_state=0, splitter='best')"
      ]
     },
     "execution_count": 46,
     "metadata": {},
     "output_type": "execute_result"
    }
   ],
   "source": [
    "# Modelo inicial\n",
    "tree = DecisionTreeClassifier(random_state = 0)\n",
    "tree.fit(X_train, Y_train)"
   ]
  },
  {
   "cell_type": "code",
   "execution_count": 47,
   "metadata": {},
   "outputs": [
    {
     "name": "stdout",
     "output_type": "stream",
     "text": [
      "f1_score: 100.0%\n"
     ]
    }
   ],
   "source": [
    "# Métrica inicial en train\n",
    "tree_f1 = f1_scorer(tree, X_train, Y_train)\n",
    "print(f'f1_score: {tree_f1:.1%}')"
   ]
  },
  {
   "cell_type": "markdown",
   "metadata": {},
   "source": [
    "Estamos en el mismo caso anterior, la métrica inicial no es real..."
   ]
  },
  {
   "cell_type": "code",
   "execution_count": 48,
   "metadata": {},
   "outputs": [
    {
     "name": "stdout",
     "output_type": "stream",
     "text": [
      "cv_f1_score: 50.7%\n"
     ]
    }
   ],
   "source": [
    "# Validación cruzada\n",
    "tree_f1_cv = cross_val_score(tree, X_train, Y_train, cv = 10, scoring = f1_scorer).mean()\n",
    "print(f'cv_f1_score: {tree_f1_cv:.1%}')"
   ]
  },
  {
   "cell_type": "code",
   "execution_count": 49,
   "metadata": {},
   "outputs": [
    {
     "data": {
      "text/plain": [
       "GridSearchCV(cv=10, error_score=nan,\n",
       "             estimator=DecisionTreeClassifier(ccp_alpha=0.0, class_weight=None,\n",
       "                                              criterion='gini', max_depth=None,\n",
       "                                              max_features=None,\n",
       "                                              max_leaf_nodes=None,\n",
       "                                              min_impurity_decrease=0.0,\n",
       "                                              min_impurity_split=None,\n",
       "                                              min_samples_leaf=1,\n",
       "                                              min_samples_split=2,\n",
       "                                              min_weight_fraction_leaf=0.0,\n",
       "                                              presort='deprecated',\n",
       "                                              random_state=0, splitter='best'),\n",
       "             iid='depr...', n_jobs=None,\n",
       "             param_grid={'max_depth': array([1, 2, 3, 4, 5, 6, 7, 8, 9]),\n",
       "                         'min_samples_leaf': array([ 1,  3,  5,  7,  9, 11, 13, 15, 17, 19, 21, 23, 25, 27, 29, 31, 33,\n",
       "       35, 37, 39, 41, 43, 45, 47, 49]),\n",
       "                         'min_samples_split': array([ 1,  3,  5,  7,  9, 11, 13, 15, 17, 19, 21, 23, 25, 27, 29])},\n",
       "             pre_dispatch='2*n_jobs', refit=True, return_train_score=False,\n",
       "             scoring=make_scorer(f1_score, average=weighted), verbose=0)"
      ]
     },
     "execution_count": 49,
     "metadata": {},
     "output_type": "execute_result"
    }
   ],
   "source": [
    "# Optimización\n",
    "param_grid = {'max_depth': np.arange(1, 10, 1), 'min_samples_leaf': np.arange(1, 50, 2),\n",
    "              'min_samples_split': np.arange(1, 30, 2)}\n",
    "tree_grid = GridSearchCV(tree, param_grid, cv = 10, scoring = f1_scorer)\n",
    "tree_grid.fit(X_train, Y_train)"
   ]
  },
  {
   "cell_type": "code",
   "execution_count": 50,
   "metadata": {},
   "outputs": [
    {
     "name": "stdout",
     "output_type": "stream",
     "text": [
      "Grid f1_score: 58.6%\n",
      "Best parameters: {'max_depth': 9, 'min_samples_leaf': 27, 'min_samples_split': 3}\n"
     ]
    }
   ],
   "source": [
    "# Mejor métrica y parámetros\n",
    "print(f'Grid f1_score: {tree_grid.best_score_:.1%}') \n",
    "print(f'Best parameters: {tree_grid.best_params_:}')"
   ]
  },
  {
   "cell_type": "code",
   "execution_count": 51,
   "metadata": {},
   "outputs": [],
   "source": [
    "# Mejor modelo\n",
    "tree_best = DecisionTreeClassifier(max_depth = 9, min_samples_leaf = 27, min_samples_split = 3, random_state = 0)\n",
    "tree_best.fit(X_train, Y_train)\n",
    "tree_best_model = tree_best.fit(X_train, Y_train)"
   ]
  },
  {
   "cell_type": "code",
   "execution_count": 52,
   "metadata": {},
   "outputs": [
    {
     "name": "stdout",
     "output_type": "stream",
     "text": [
      "best_f1_score: 57.3%\n"
     ]
    }
   ],
   "source": [
    "# Métrica final en test\n",
    "tree_f1_best = f1_scorer(tree_best, X_test, Y_test)\n",
    "print(f'best_f1_score: {tree_f1_best:.1%}')"
   ]
  },
  {
   "cell_type": "code",
   "execution_count": 53,
   "metadata": {},
   "outputs": [
    {
     "name": "stdout",
     "output_type": "stream",
     "text": [
      "              precision    recall  f1-score   support\n",
      "\n",
      "           1       0.00      0.00      0.00         3\n",
      "           2       0.38      0.33      0.36        24\n",
      "           3       0.53      0.53      0.53       124\n",
      "           4       0.55      0.62      0.58       237\n",
      "           5       0.64      0.62      0.63       219\n",
      "           6       0.76      0.42      0.54        38\n",
      "\n",
      "    accuracy                           0.58       645\n",
      "   macro avg       0.48      0.42      0.44       645\n",
      "weighted avg       0.58      0.58      0.57       645\n",
      "\n"
     ]
    },
    {
     "data": {
      "text/plain": [
       "<sklearn.metrics._plot.confusion_matrix.ConfusionMatrixDisplay at 0x7f629647b9d0>"
      ]
     },
     "execution_count": 53,
     "metadata": {},
     "output_type": "execute_result"
    },
    {
     "data": {
      "image/png": "[encoded data removed]",
      "text/plain": [
       "<Figure size 720x360 with 2 Axes>"
      ]
     },
     "metadata": {},
     "output_type": "display_data"
    }
   ],
   "source": [
    "# Classification report y matriz de confusión\n",
    "print(classification_report(Y_test, tree_best.predict(X_test)))\n",
    "plot_confusion_matrix(tree_best_model, X_test, Y_test)"
   ]
  },
  {
   "cell_type": "markdown",
   "metadata": {},
   "source": [
    "### RANDOM FOREST"
   ]
  },
  {
   "cell_type": "code",
   "execution_count": 54,
   "metadata": {},
   "outputs": [
    {
     "data": {
      "text/plain": [
       "RandomForestClassifier(bootstrap=True, ccp_alpha=0.0, class_weight=None,\n",
       "                       criterion='gini', max_depth=None, max_features='auto',\n",
       "                       max_leaf_nodes=None, max_samples=None,\n",
       "                       min_impurity_decrease=0.0, min_impurity_split=None,\n",
       "                       min_samples_leaf=1, min_samples_split=2,\n",
       "                       min_weight_fraction_leaf=0.0, n_estimators=100,\n",
       "                       n_jobs=None, oob_score=False, random_state=0, verbose=0,\n",
       "                       warm_start=False)"
      ]
     },
     "execution_count": 54,
     "metadata": {},
     "output_type": "execute_result"
    }
   ],
   "source": [
    "# Modelo inicial\n",
    "rf = RandomForestClassifier(random_state = 0)\n",
    "rf.fit(X_train, Y_train)"
   ]
  },
  {
   "cell_type": "code",
   "execution_count": 55,
   "metadata": {},
   "outputs": [
    {
     "name": "stdout",
     "output_type": "stream",
     "text": [
      "f1_score: 100.0%\n"
     ]
    }
   ],
   "source": [
    "# Métrica inicial en train\n",
    "rf_f1 = f1_scorer(rf, X_train, Y_train)\n",
    "print(f'f1_score: {rf_f1:.1%}')"
   ]
  },
  {
   "cell_type": "code",
   "execution_count": 56,
   "metadata": {},
   "outputs": [
    {
     "name": "stdout",
     "output_type": "stream",
     "text": [
      "cv_f1_score: 60.6%\n"
     ]
    }
   ],
   "source": [
    "# Validación cruzada\n",
    "rf_f1_cv = cross_val_score(rf, X_train, Y_train, cv = 10, scoring = f1_scorer).mean()\n",
    "print(f'cv_f1_score: {rf_f1_cv:.1%}')"
   ]
  },
  {
   "cell_type": "code",
   "execution_count": 57,
   "metadata": {},
   "outputs": [
    {
     "data": {
      "text/plain": [
       "GridSearchCV(cv=10, error_score=nan,\n",
       "             estimator=RandomForestClassifier(bootstrap=True, ccp_alpha=0.0,\n",
       "                                              class_weight=None,\n",
       "                                              criterion='gini', max_depth=None,\n",
       "                                              max_features='auto',\n",
       "                                              max_leaf_nodes=None,\n",
       "                                              max_samples=None,\n",
       "                                              min_impurity_decrease=0.0,\n",
       "                                              min_impurity_split=None,\n",
       "                                              min_samples_leaf=1,\n",
       "                                              min_samples_split=2,\n",
       "                                              min_weight_fraction_leaf=0.0,\n",
       "                                              n_estimators=100, n_jobs=None,\n",
       "                                              oob_score=False, random_state=0,\n",
       "                                              verbose=0, warm_start=False),\n",
       "             iid='deprecated', n_jobs=None,\n",
       "             param_grid={'max_depth': array([1, 2, 3, 4, 5, 6, 7, 8, 9]),\n",
       "                         'min_samples_leaf': array([ 3,  5,  7,  9, 11, 13, 15, 17, 19]),\n",
       "                         'min_samples_split': array([ 1,  6, 11, 16, 21, 26])},\n",
       "             pre_dispatch='2*n_jobs', refit=True, return_train_score=False,\n",
       "             scoring=make_scorer(f1_score, average=weighted), verbose=0)"
      ]
     },
     "execution_count": 57,
     "metadata": {},
     "output_type": "execute_result"
    }
   ],
   "source": [
    "# Optimización\n",
    "param_grid = {'max_depth': np.arange(1, 10, 1), 'min_samples_leaf': np.arange(3, 20, 2),\n",
    "              'min_samples_split': np.arange(1, 30, 5)}\n",
    "rf_grid = GridSearchCV(rf, param_grid, cv = 10, scoring = f1_scorer)\n",
    "rf_grid.fit(X_train, Y_train)"
   ]
  },
  {
   "cell_type": "code",
   "execution_count": 58,
   "metadata": {},
   "outputs": [
    {
     "name": "stdout",
     "output_type": "stream",
     "text": [
      "Grid f1_score: 61.6%\n",
      "Best parameters: {'max_depth': 8, 'min_samples_leaf': 3, 'min_samples_split': 11}\n"
     ]
    }
   ],
   "source": [
    "# Mejor métrica y parámetros\n",
    "print(f'Grid f1_score: {rf_grid.best_score_:.1%}') \n",
    "print(f'Best parameters: {rf_grid.best_params_:}')"
   ]
  },
  {
   "cell_type": "code",
   "execution_count": 59,
   "metadata": {},
   "outputs": [],
   "source": [
    "# Mejor modelo\n",
    "rf_best = RandomForestClassifier(max_depth = 8, min_samples_leaf = 3, min_samples_split = 11, random_state = 0)\n",
    "rf_best.fit(X_train, Y_train)\n",
    "rf_best_model = rf_best.fit(X_train, Y_train)"
   ]
  },
  {
   "cell_type": "code",
   "execution_count": 60,
   "metadata": {},
   "outputs": [
    {
     "name": "stdout",
     "output_type": "stream",
     "text": [
      "best_f1_score: 60.3%\n"
     ]
    }
   ],
   "source": [
    "# Métrica final en test\n",
    "rf_f1_best = f1_scorer(rf_best, X_test, Y_test)\n",
    "print(f'best_f1_score: {rf_f1_best:.1%}')"
   ]
  },
  {
   "cell_type": "code",
   "execution_count": 61,
   "metadata": {},
   "outputs": [
    {
     "name": "stdout",
     "output_type": "stream",
     "text": [
      "              precision    recall  f1-score   support\n",
      "\n",
      "           1       0.00      0.00      0.00         3\n",
      "           2       1.00      0.12      0.22        24\n",
      "           3       0.61      0.57      0.59       124\n",
      "           4       0.57      0.73      0.64       237\n",
      "           5       0.67      0.60      0.63       219\n",
      "           6       0.65      0.45      0.53        38\n",
      "\n",
      "    accuracy                           0.61       645\n",
      "   macro avg       0.58      0.41      0.44       645\n",
      "weighted avg       0.63      0.61      0.60       645\n",
      "\n"
     ]
    },
    {
     "data": {
      "text/plain": [
       "<sklearn.metrics._plot.confusion_matrix.ConfusionMatrixDisplay at 0x7f6285312d10>"
      ]
     },
     "execution_count": 61,
     "metadata": {},
     "output_type": "execute_result"
    },
    {
     "data": {
      "image/png": "[encoded data removed]",
      "text/plain": [
       "<Figure size 720x360 with 2 Axes>"
      ]
     },
     "metadata": {},
     "output_type": "display_data"
    }
   ],
   "source": [
    "# Classification report y matriz de confusión\n",
    "print(classification_report(Y_test, rf_best.predict(X_test)))\n",
    "plot_confusion_matrix(rf_best_model, X_test, Y_test)"
   ]
  },
  {
   "cell_type": "markdown",
   "metadata": {},
   "source": [
    "Vamos a probar ensamblando varios modelos, a ver si obtenemos una mejor puntuación"
   ]
  },
  {
   "cell_type": "markdown",
   "metadata": {},
   "source": [
    "### Ensembled"
   ]
  },
  {
   "cell_type": "code",
   "execution_count": 62,
   "metadata": {},
   "outputs": [],
   "source": [
    "# Probamos ensamblando los dos que han obtenido mejor puntuación, SVM y RandomForest\n",
    "models = []\n",
    "models.append(('SVM', svc_best_model))\n",
    "models.append(('RandomForest', rf_best_model))\n",
    "\n",
    "ens = VotingClassifier(models)\n",
    "ens.fit(X_train, Y_train)\n",
    "ens_best = ens.fit(X_train, Y_train)"
   ]
  },
  {
   "cell_type": "code",
   "execution_count": 63,
   "metadata": {},
   "outputs": [
    {
     "name": "stdout",
     "output_type": "stream",
     "text": [
      "f1_score: 67.0%\n"
     ]
    }
   ],
   "source": [
    "# Métrica en train\n",
    "ens_f1 = f1_scorer(ens, X_train, Y_train)\n",
    "print(f'f1_score: {ens_f1:.1%}')"
   ]
  },
  {
   "cell_type": "code",
   "execution_count": 64,
   "metadata": {},
   "outputs": [
    {
     "name": "stdout",
     "output_type": "stream",
     "text": [
      "cv_f1_score: 60.9%\n"
     ]
    }
   ],
   "source": [
    "# Validación cruzada\n",
    "ens_f1_cv = cross_val_score(ens, X_train, Y_train, cv = 10, scoring = f1_scorer).mean()\n",
    "print(f'cv_f1_score: {ens_f1_cv:.1%}')"
   ]
  },
  {
   "cell_type": "code",
   "execution_count": 65,
   "metadata": {},
   "outputs": [
    {
     "name": "stdout",
     "output_type": "stream",
     "text": [
      "f1_score: 61.2%\n"
     ]
    }
   ],
   "source": [
    "# Métrica final en test\n",
    "ens_f1_best = f1_scorer(ens, X_test, Y_test)\n",
    "print(f'f1_score: {ens_f1_best:.1%}')"
   ]
  },
  {
   "cell_type": "code",
   "execution_count": 66,
   "metadata": {},
   "outputs": [
    {
     "name": "stdout",
     "output_type": "stream",
     "text": [
      "              precision    recall  f1-score   support\n",
      "\n",
      "           1       0.00      0.00      0.00         3\n",
      "           2       1.00      0.12      0.22        24\n",
      "           3       0.61      0.69      0.65       124\n",
      "           4       0.58      0.71      0.64       237\n",
      "           5       0.68      0.58      0.62       219\n",
      "           6       0.77      0.45      0.57        38\n",
      "\n",
      "    accuracy                           0.62       645\n",
      "   macro avg       0.61      0.43      0.45       645\n",
      "weighted avg       0.64      0.62      0.61       645\n",
      "\n"
     ]
    },
    {
     "data": {
      "text/plain": [
       "<sklearn.metrics._plot.confusion_matrix.ConfusionMatrixDisplay at 0x7f6285268b10>"
      ]
     },
     "execution_count": 66,
     "metadata": {},
     "output_type": "execute_result"
    },
    {
     "data": {
      "image/png": "[encoded data removed]",
      "text/plain": [
       "<Figure size 720x360 with 2 Axes>"
      ]
     },
     "metadata": {},
     "output_type": "display_data"
    }
   ],
   "source": [
    "# Classification report y matriz de confusión\n",
    "print(classification_report(Y_test, ens_best.predict(X_test)))\n",
    "plot_confusion_matrix(ens_best, X_test, Y_test)"
   ]
  },
  {
   "cell_type": "markdown",
   "metadata": {},
   "source": [
    "Para comparar mejor los resultados, vamos a reunir las métricas finales en un dataframe"
   ]
  },
  {
   "cell_type": "code",
   "execution_count": 67,
   "metadata": {},
   "outputs": [
    {
     "data": {
      "text/html": [
       "<div>\n",
       "<style scoped>\n",
       "    .dataframe tbody tr th:only-of-type {\n",
       "        vertical-align: middle;\n",
       "    }\n",
       "\n",
       "    .dataframe tbody tr th {\n",
       "        vertical-align: top;\n",
       "    }\n",
       "\n",
       "    .dataframe thead th {\n",
       "        text-align: right;\n",
       "    }\n",
       "</style>\n",
       "<table border=\"1\" class=\"dataframe\">\n",
       "  <thead>\n",
       "    <tr style=\"text-align: right;\">\n",
       "      <th></th>\n",
       "      <th>Modelo</th>\n",
       "      <th>f1_score</th>\n",
       "    </tr>\n",
       "  </thead>\n",
       "  <tbody>\n",
       "    <tr>\n",
       "      <th>0</th>\n",
       "      <td>LogisticRegression</td>\n",
       "      <td>0.529176</td>\n",
       "    </tr>\n",
       "    <tr>\n",
       "      <th>1</th>\n",
       "      <td>K_Neighbors</td>\n",
       "      <td>0.572684</td>\n",
       "    </tr>\n",
       "    <tr>\n",
       "      <th>4</th>\n",
       "      <td>DecisionTree</td>\n",
       "      <td>0.573106</td>\n",
       "    </tr>\n",
       "    <tr>\n",
       "      <th>3</th>\n",
       "      <td>XGBoost</td>\n",
       "      <td>0.601728</td>\n",
       "    </tr>\n",
       "    <tr>\n",
       "      <th>5</th>\n",
       "      <td>RandomForest</td>\n",
       "      <td>0.602780</td>\n",
       "    </tr>\n",
       "    <tr>\n",
       "      <th>2</th>\n",
       "      <td>SVM</td>\n",
       "      <td>0.603464</td>\n",
       "    </tr>\n",
       "    <tr>\n",
       "      <th>6</th>\n",
       "      <td>Ensembled</td>\n",
       "      <td>0.612131</td>\n",
       "    </tr>\n",
       "  </tbody>\n",
       "</table>\n",
       "</div>"
      ],
      "text/plain": [
       "               Modelo  f1_score\n",
       "0  LogisticRegression  0.529176\n",
       "1         K_Neighbors  0.572684\n",
       "4        DecisionTree  0.573106\n",
       "3             XGBoost  0.601728\n",
       "5        RandomForest  0.602780\n",
       "2                 SVM  0.603464\n",
       "6           Ensembled  0.612131"
      ]
     },
     "execution_count": 67,
     "metadata": {},
     "output_type": "execute_result"
    }
   ],
   "source": [
    "# Creamos el dataframe y ordenamos\n",
    "results = pd.DataFrame({'Modelo': ['LogisticRegression', 'K_Neighbors', 'SVM', 'XGBoost', 'DecisionTree', \n",
    "                                   'RandomForest', 'Ensembled'], \n",
    "                        'f1_score': [log_f1_best, knn_f1_best, svc_f1_best, xgb_f1_best, tree_f1_best, rf_f1_best,\n",
    "                                     ens_f1_best]})\n",
    "results.sort_values(by = 'f1_score' , inplace = True)\n",
    "results"
   ]
  },
  {
   "cell_type": "markdown",
   "metadata": {},
   "source": [
    "El mejor modelo es el \"ensembled\", con un f1_score medio de 0.61"
   ]
  }
 ],
 "metadata": {
  "kernelspec": {
   "display_name": "Python 3",
   "language": "python",
   "name": "python3"
  },
  "language_info": {
   "codemirror_mode": {
    "name": "ipython",
    "version": 3
   },
   "file_extension": ".py",
   "mimetype": "text/x-python",
   "name": "python",
   "nbconvert_exporter": "python",
   "pygments_lexer": "ipython3",
   "version": "3.7.6"
  }
 },
 "nbformat": 4,
 "nbformat_minor": 4
}
