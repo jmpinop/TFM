{
 "cells": [
  {
   "cell_type": "code",
   "execution_count": 26,
   "metadata": {},
   "outputs": [],
   "source": [
    "# Importaciones necesarias\n",
    "import pandas as pd\n",
    "import numpy as np\n",
    "import matplotlib.pyplot as plt\n",
    "import seaborn as sns\n",
    "%matplotlib inline\n",
    "pd.options.display.max_columns = None\n",
    "from sklearn.linear_model import LinearRegression\n",
    "from sklearn import linear_model\n",
    "from sklearn.metrics import mean_squared_error, r2_score"
   ]
  },
  {
   "cell_type": "code",
   "execution_count": 27,
   "metadata": {},
   "outputs": [],
   "source": [
    "df = pd.read_csv('SCF.csv', sep = ',')"
   ]
  },
  {
   "cell_type": "code",
   "execution_count": 28,
   "metadata": {},
   "outputs": [
    {
     "data": {
      "text/html": [
       "<div>\n",
       "<style scoped>\n",
       "    .dataframe tbody tr th:only-of-type {\n",
       "        vertical-align: middle;\n",
       "    }\n",
       "\n",
       "    .dataframe tbody tr th {\n",
       "        vertical-align: top;\n",
       "    }\n",
       "\n",
       "    .dataframe thead th {\n",
       "        text-align: right;\n",
       "    }\n",
       "</style>\n",
       "<table border=\"1\" class=\"dataframe\">\n",
       "  <thead>\n",
       "    <tr style=\"text-align: right;\">\n",
       "      <th></th>\n",
       "      <th>Date</th>\n",
       "      <th>Spots</th>\n",
       "      <th>Central_PA</th>\n",
       "      <th>Width</th>\n",
       "      <th>2_I_speed</th>\n",
       "      <th>2_F_speed</th>\n",
       "      <th>2_20R_speed</th>\n",
       "      <th>K_energy</th>\n",
       "      <th>MPA</th>\n",
       "      <th>Background_energy</th>\n",
       "      <th>Peak_energy</th>\n",
       "      <th>Integrated_energy</th>\n",
       "      <th>Dur</th>\n",
       "    </tr>\n",
       "  </thead>\n",
       "  <tbody>\n",
       "    <tr>\n",
       "      <th>0</th>\n",
       "      <td>1996-01-31</td>\n",
       "      <td>13.0</td>\n",
       "      <td>274.000000</td>\n",
       "      <td>47.0</td>\n",
       "      <td>219.0</td>\n",
       "      <td>99.000000</td>\n",
       "      <td>322.000000</td>\n",
       "      <td>3.200000e+28</td>\n",
       "      <td>272.0</td>\n",
       "      <td>3.260000e-08</td>\n",
       "      <td>1.860000e-07</td>\n",
       "      <td>0.000096</td>\n",
       "      <td>10.000000</td>\n",
       "    </tr>\n",
       "    <tr>\n",
       "      <th>1</th>\n",
       "      <td>1996-03-11</td>\n",
       "      <td>22.0</td>\n",
       "      <td>86.000000</td>\n",
       "      <td>52.0</td>\n",
       "      <td>124.0</td>\n",
       "      <td>352.000000</td>\n",
       "      <td>656.000000</td>\n",
       "      <td>1.300000e+29</td>\n",
       "      <td>77.0</td>\n",
       "      <td>7.761111e-08</td>\n",
       "      <td>5.227778e-07</td>\n",
       "      <td>0.000317</td>\n",
       "      <td>12.111111</td>\n",
       "    </tr>\n",
       "    <tr>\n",
       "      <th>2</th>\n",
       "      <td>1996-03-14</td>\n",
       "      <td>18.0</td>\n",
       "      <td>285.000000</td>\n",
       "      <td>59.0</td>\n",
       "      <td>526.0</td>\n",
       "      <td>307.000000</td>\n",
       "      <td>302.000000</td>\n",
       "      <td>1.000000e+30</td>\n",
       "      <td>292.0</td>\n",
       "      <td>2.550000e-08</td>\n",
       "      <td>1.600000e-07</td>\n",
       "      <td>0.000035</td>\n",
       "      <td>6.000000</td>\n",
       "    </tr>\n",
       "    <tr>\n",
       "      <th>3</th>\n",
       "      <td>1996-05-06</td>\n",
       "      <td>15.0</td>\n",
       "      <td>88.000000</td>\n",
       "      <td>73.0</td>\n",
       "      <td>496.0</td>\n",
       "      <td>360.000000</td>\n",
       "      <td>404.000000</td>\n",
       "      <td>2.500000e+30</td>\n",
       "      <td>83.0</td>\n",
       "      <td>9.200000e-08</td>\n",
       "      <td>7.800000e-07</td>\n",
       "      <td>0.000687</td>\n",
       "      <td>24.666667</td>\n",
       "    </tr>\n",
       "    <tr>\n",
       "      <th>4</th>\n",
       "      <td>1996-05-11</td>\n",
       "      <td>25.0</td>\n",
       "      <td>268.000000</td>\n",
       "      <td>58.0</td>\n",
       "      <td>467.0</td>\n",
       "      <td>485.000000</td>\n",
       "      <td>489.000000</td>\n",
       "      <td>5.500000e+29</td>\n",
       "      <td>269.0</td>\n",
       "      <td>6.487500e-08</td>\n",
       "      <td>4.250000e-07</td>\n",
       "      <td>0.000323</td>\n",
       "      <td>18.375000</td>\n",
       "    </tr>\n",
       "    <tr>\n",
       "      <th>...</th>\n",
       "      <td>...</td>\n",
       "      <td>...</td>\n",
       "      <td>...</td>\n",
       "      <td>...</td>\n",
       "      <td>...</td>\n",
       "      <td>...</td>\n",
       "      <td>...</td>\n",
       "      <td>...</td>\n",
       "      <td>...</td>\n",
       "      <td>...</td>\n",
       "      <td>...</td>\n",
       "      <td>...</td>\n",
       "      <td>...</td>\n",
       "    </tr>\n",
       "    <tr>\n",
       "      <th>3814</th>\n",
       "      <td>2016-12-21</td>\n",
       "      <td>30.0</td>\n",
       "      <td>90.000000</td>\n",
       "      <td>93.0</td>\n",
       "      <td>64.0</td>\n",
       "      <td>351.000000</td>\n",
       "      <td>306.000000</td>\n",
       "      <td>8.200000e+29</td>\n",
       "      <td>84.0</td>\n",
       "      <td>7.100000e-08</td>\n",
       "      <td>2.700000e-07</td>\n",
       "      <td>0.000150</td>\n",
       "      <td>14.000000</td>\n",
       "    </tr>\n",
       "    <tr>\n",
       "      <th>3815</th>\n",
       "      <td>2016-12-27</td>\n",
       "      <td>16.0</td>\n",
       "      <td>236.000000</td>\n",
       "      <td>33.0</td>\n",
       "      <td>79.0</td>\n",
       "      <td>284.000000</td>\n",
       "      <td>430.000000</td>\n",
       "      <td>2.700000e+28</td>\n",
       "      <td>239.0</td>\n",
       "      <td>7.800000e-08</td>\n",
       "      <td>2.066667e-07</td>\n",
       "      <td>0.000229</td>\n",
       "      <td>20.333333</td>\n",
       "    </tr>\n",
       "    <tr>\n",
       "      <th>3816</th>\n",
       "      <td>2016-12-29</td>\n",
       "      <td>11.0</td>\n",
       "      <td>48.000000</td>\n",
       "      <td>20.0</td>\n",
       "      <td>112.0</td>\n",
       "      <td>180.000000</td>\n",
       "      <td>370.000000</td>\n",
       "      <td>5.900000e+27</td>\n",
       "      <td>55.0</td>\n",
       "      <td>7.700000e-08</td>\n",
       "      <td>1.300000e-07</td>\n",
       "      <td>0.000049</td>\n",
       "      <td>9.000000</td>\n",
       "    </tr>\n",
       "    <tr>\n",
       "      <th>3817</th>\n",
       "      <td>2016-12-30</td>\n",
       "      <td>11.0</td>\n",
       "      <td>136.000000</td>\n",
       "      <td>34.5</td>\n",
       "      <td>250.0</td>\n",
       "      <td>419.000000</td>\n",
       "      <td>518.500000</td>\n",
       "      <td>3.850000e+29</td>\n",
       "      <td>143.5</td>\n",
       "      <td>8.300000e-08</td>\n",
       "      <td>1.600000e-07</td>\n",
       "      <td>0.000096</td>\n",
       "      <td>11.500000</td>\n",
       "    </tr>\n",
       "    <tr>\n",
       "      <th>3818</th>\n",
       "      <td>2016-12-31</td>\n",
       "      <td>11.0</td>\n",
       "      <td>74.666667</td>\n",
       "      <td>33.0</td>\n",
       "      <td>305.0</td>\n",
       "      <td>423.333333</td>\n",
       "      <td>931.333333</td>\n",
       "      <td>1.081667e+29</td>\n",
       "      <td>79.0</td>\n",
       "      <td>1.000000e-07</td>\n",
       "      <td>2.100000e-07</td>\n",
       "      <td>0.001295</td>\n",
       "      <td>111.500000</td>\n",
       "    </tr>\n",
       "  </tbody>\n",
       "</table>\n",
       "<p>3819 rows × 13 columns</p>\n",
       "</div>"
      ],
      "text/plain": [
       "            Date  Spots  Central_PA  Width  2_I_speed   2_F_speed  \\\n",
       "0     1996-01-31   13.0  274.000000   47.0      219.0   99.000000   \n",
       "1     1996-03-11   22.0   86.000000   52.0      124.0  352.000000   \n",
       "2     1996-03-14   18.0  285.000000   59.0      526.0  307.000000   \n",
       "3     1996-05-06   15.0   88.000000   73.0      496.0  360.000000   \n",
       "4     1996-05-11   25.0  268.000000   58.0      467.0  485.000000   \n",
       "...          ...    ...         ...    ...        ...         ...   \n",
       "3814  2016-12-21   30.0   90.000000   93.0       64.0  351.000000   \n",
       "3815  2016-12-27   16.0  236.000000   33.0       79.0  284.000000   \n",
       "3816  2016-12-29   11.0   48.000000   20.0      112.0  180.000000   \n",
       "3817  2016-12-30   11.0  136.000000   34.5      250.0  419.000000   \n",
       "3818  2016-12-31   11.0   74.666667   33.0      305.0  423.333333   \n",
       "\n",
       "      2_20R_speed      K_energy    MPA  Background_energy   Peak_energy  \\\n",
       "0      322.000000  3.200000e+28  272.0       3.260000e-08  1.860000e-07   \n",
       "1      656.000000  1.300000e+29   77.0       7.761111e-08  5.227778e-07   \n",
       "2      302.000000  1.000000e+30  292.0       2.550000e-08  1.600000e-07   \n",
       "3      404.000000  2.500000e+30   83.0       9.200000e-08  7.800000e-07   \n",
       "4      489.000000  5.500000e+29  269.0       6.487500e-08  4.250000e-07   \n",
       "...           ...           ...    ...                ...           ...   \n",
       "3814   306.000000  8.200000e+29   84.0       7.100000e-08  2.700000e-07   \n",
       "3815   430.000000  2.700000e+28  239.0       7.800000e-08  2.066667e-07   \n",
       "3816   370.000000  5.900000e+27   55.0       7.700000e-08  1.300000e-07   \n",
       "3817   518.500000  3.850000e+29  143.5       8.300000e-08  1.600000e-07   \n",
       "3818   931.333333  1.081667e+29   79.0       1.000000e-07  2.100000e-07   \n",
       "\n",
       "      Integrated_energy         Dur  \n",
       "0              0.000096   10.000000  \n",
       "1              0.000317   12.111111  \n",
       "2              0.000035    6.000000  \n",
       "3              0.000687   24.666667  \n",
       "4              0.000323   18.375000  \n",
       "...                 ...         ...  \n",
       "3814           0.000150   14.000000  \n",
       "3815           0.000229   20.333333  \n",
       "3816           0.000049    9.000000  \n",
       "3817           0.000096   11.500000  \n",
       "3818           0.001295  111.500000  \n",
       "\n",
       "[3819 rows x 13 columns]"
      ]
     },
     "execution_count": 28,
     "metadata": {},
     "output_type": "execute_result"
    }
   ],
   "source": [
    "df"
   ]
  },
  {
   "cell_type": "code",
   "execution_count": 29,
   "metadata": {},
   "outputs": [
    {
     "data": {
      "text/html": [
       "<div>\n",
       "<style scoped>\n",
       "    .dataframe tbody tr th:only-of-type {\n",
       "        vertical-align: middle;\n",
       "    }\n",
       "\n",
       "    .dataframe tbody tr th {\n",
       "        vertical-align: top;\n",
       "    }\n",
       "\n",
       "    .dataframe thead th {\n",
       "        text-align: right;\n",
       "    }\n",
       "</style>\n",
       "<table border=\"1\" class=\"dataframe\">\n",
       "  <thead>\n",
       "    <tr style=\"text-align: right;\">\n",
       "      <th></th>\n",
       "      <th>Spots</th>\n",
       "      <th>Central_PA</th>\n",
       "      <th>Width</th>\n",
       "      <th>2_I_speed</th>\n",
       "      <th>2_F_speed</th>\n",
       "      <th>2_20R_speed</th>\n",
       "      <th>K_energy</th>\n",
       "      <th>MPA</th>\n",
       "      <th>Background_energy</th>\n",
       "      <th>Peak_energy</th>\n",
       "      <th>Integrated_energy</th>\n",
       "      <th>Dur</th>\n",
       "    </tr>\n",
       "  </thead>\n",
       "  <tbody>\n",
       "    <tr>\n",
       "      <th>count</th>\n",
       "      <td>3819.000000</td>\n",
       "      <td>3819.000000</td>\n",
       "      <td>3819.000000</td>\n",
       "      <td>3819.000000</td>\n",
       "      <td>3819.000000</td>\n",
       "      <td>3819.000000</td>\n",
       "      <td>3.819000e+03</td>\n",
       "      <td>3819.000000</td>\n",
       "      <td>3.819000e+03</td>\n",
       "      <td>3.819000e+03</td>\n",
       "      <td>3819.000000</td>\n",
       "      <td>3819.000000</td>\n",
       "    </tr>\n",
       "    <tr>\n",
       "      <th>mean</th>\n",
       "      <td>92.605656</td>\n",
       "      <td>183.174891</td>\n",
       "      <td>67.057744</td>\n",
       "      <td>358.119336</td>\n",
       "      <td>387.096156</td>\n",
       "      <td>524.902505</td>\n",
       "      <td>1.403211e+30</td>\n",
       "      <td>180.566161</td>\n",
       "      <td>6.371989e-07</td>\n",
       "      <td>2.763158e-06</td>\n",
       "      <td>0.002646</td>\n",
       "      <td>19.197172</td>\n",
       "    </tr>\n",
       "    <tr>\n",
       "      <th>std</th>\n",
       "      <td>59.969497</td>\n",
       "      <td>69.009643</td>\n",
       "      <td>37.003848</td>\n",
       "      <td>164.447102</td>\n",
       "      <td>144.530686</td>\n",
       "      <td>203.645645</td>\n",
       "      <td>2.004320e+30</td>\n",
       "      <td>68.808969</td>\n",
       "      <td>6.135720e-07</td>\n",
       "      <td>4.937071e-06</td>\n",
       "      <td>0.006937</td>\n",
       "      <td>15.175042</td>\n",
       "    </tr>\n",
       "    <tr>\n",
       "      <th>min</th>\n",
       "      <td>6.000000</td>\n",
       "      <td>1.000000</td>\n",
       "      <td>11.000000</td>\n",
       "      <td>10.000000</td>\n",
       "      <td>10.000000</td>\n",
       "      <td>21.000000</td>\n",
       "      <td>2.400000e+25</td>\n",
       "      <td>3.000000</td>\n",
       "      <td>3.700000e-09</td>\n",
       "      <td>1.000000e-07</td>\n",
       "      <td>0.000022</td>\n",
       "      <td>4.000000</td>\n",
       "    </tr>\n",
       "    <tr>\n",
       "      <th>25%</th>\n",
       "      <td>45.000000</td>\n",
       "      <td>134.450000</td>\n",
       "      <td>43.666667</td>\n",
       "      <td>241.000000</td>\n",
       "      <td>290.000000</td>\n",
       "      <td>385.071429</td>\n",
       "      <td>1.153333e+29</td>\n",
       "      <td>130.291667</td>\n",
       "      <td>1.933333e-07</td>\n",
       "      <td>5.654167e-07</td>\n",
       "      <td>0.000375</td>\n",
       "      <td>11.363636</td>\n",
       "    </tr>\n",
       "    <tr>\n",
       "      <th>50%</th>\n",
       "      <td>79.000000</td>\n",
       "      <td>184.333333</td>\n",
       "      <td>58.833333</td>\n",
       "      <td>334.750000</td>\n",
       "      <td>374.500000</td>\n",
       "      <td>500.142857</td>\n",
       "      <td>5.127143e+29</td>\n",
       "      <td>181.400000</td>\n",
       "      <td>4.675000e-07</td>\n",
       "      <td>1.400000e-06</td>\n",
       "      <td>0.001100</td>\n",
       "      <td>15.375000</td>\n",
       "    </tr>\n",
       "    <tr>\n",
       "      <th>75%</th>\n",
       "      <td>130.000000</td>\n",
       "      <td>233.633333</td>\n",
       "      <td>80.000000</td>\n",
       "      <td>455.598039</td>\n",
       "      <td>471.000000</td>\n",
       "      <td>627.633333</td>\n",
       "      <td>1.772825e+30</td>\n",
       "      <td>231.000000</td>\n",
       "      <td>8.680128e-07</td>\n",
       "      <td>3.099286e-06</td>\n",
       "      <td>0.002789</td>\n",
       "      <td>21.500000</td>\n",
       "    </tr>\n",
       "    <tr>\n",
       "      <th>max</th>\n",
       "      <td>343.000000</td>\n",
       "      <td>360.000000</td>\n",
       "      <td>360.000000</td>\n",
       "      <td>1037.500000</td>\n",
       "      <td>995.000000</td>\n",
       "      <td>1395.000000</td>\n",
       "      <td>9.900000e+30</td>\n",
       "      <td>359.000000</td>\n",
       "      <td>4.600000e-06</td>\n",
       "      <td>1.288000e-04</td>\n",
       "      <td>0.235325</td>\n",
       "      <td>225.500000</td>\n",
       "    </tr>\n",
       "  </tbody>\n",
       "</table>\n",
       "</div>"
      ],
      "text/plain": [
       "             Spots   Central_PA        Width    2_I_speed    2_F_speed  \\\n",
       "count  3819.000000  3819.000000  3819.000000  3819.000000  3819.000000   \n",
       "mean     92.605656   183.174891    67.057744   358.119336   387.096156   \n",
       "std      59.969497    69.009643    37.003848   164.447102   144.530686   \n",
       "min       6.000000     1.000000    11.000000    10.000000    10.000000   \n",
       "25%      45.000000   134.450000    43.666667   241.000000   290.000000   \n",
       "50%      79.000000   184.333333    58.833333   334.750000   374.500000   \n",
       "75%     130.000000   233.633333    80.000000   455.598039   471.000000   \n",
       "max     343.000000   360.000000   360.000000  1037.500000   995.000000   \n",
       "\n",
       "       2_20R_speed      K_energy          MPA  Background_energy  \\\n",
       "count  3819.000000  3.819000e+03  3819.000000       3.819000e+03   \n",
       "mean    524.902505  1.403211e+30   180.566161       6.371989e-07   \n",
       "std     203.645645  2.004320e+30    68.808969       6.135720e-07   \n",
       "min      21.000000  2.400000e+25     3.000000       3.700000e-09   \n",
       "25%     385.071429  1.153333e+29   130.291667       1.933333e-07   \n",
       "50%     500.142857  5.127143e+29   181.400000       4.675000e-07   \n",
       "75%     627.633333  1.772825e+30   231.000000       8.680128e-07   \n",
       "max    1395.000000  9.900000e+30   359.000000       4.600000e-06   \n",
       "\n",
       "        Peak_energy  Integrated_energy          Dur  \n",
       "count  3.819000e+03        3819.000000  3819.000000  \n",
       "mean   2.763158e-06           0.002646    19.197172  \n",
       "std    4.937071e-06           0.006937    15.175042  \n",
       "min    1.000000e-07           0.000022     4.000000  \n",
       "25%    5.654167e-07           0.000375    11.363636  \n",
       "50%    1.400000e-06           0.001100    15.375000  \n",
       "75%    3.099286e-06           0.002789    21.500000  \n",
       "max    1.288000e-04           0.235325   225.500000  "
      ]
     },
     "execution_count": 29,
     "metadata": {},
     "output_type": "execute_result"
    }
   ],
   "source": [
    "df.describe()"
   ]
  },
  {
   "cell_type": "code",
   "execution_count": 30,
   "metadata": {},
   "outputs": [
    {
     "data": {
      "text/plain": [
       "Index(['Date', 'Spots', 'Central_PA', 'Width', '2_I_speed', '2_F_speed',\n",
       "       '2_20R_speed', 'K_energy', 'MPA', 'Background_energy', 'Peak_energy',\n",
       "       'Integrated_energy', 'Dur'],\n",
       "      dtype='object')"
      ]
     },
     "execution_count": 30,
     "metadata": {},
     "output_type": "execute_result"
    }
   ],
   "source": [
    "df.columns\n"
   ]
  },
  {
   "cell_type": "code",
   "execution_count": 31,
   "metadata": {},
   "outputs": [],
   "source": [
    "X = df[['Spots', 'Central_PA', 'Width', '2_I_speed', '2_F_speed',\n",
    "       '2_20R_speed', 'MPA', 'Background_energy',\n",
    "       'Peak_energy', 'Integrated_energy', 'Dur']]"
   ]
  },
  {
   "cell_type": "code",
   "execution_count": 32,
   "metadata": {},
   "outputs": [],
   "source": [
    "Y = df['K_energy']"
   ]
  },
  {
   "cell_type": "code",
   "execution_count": 33,
   "metadata": {},
   "outputs": [],
   "source": [
    "reg = LinearRegression()"
   ]
  },
  {
   "cell_type": "code",
   "execution_count": 34,
   "metadata": {},
   "outputs": [
    {
     "data": {
      "text/plain": [
       "LinearRegression(copy_X=True, fit_intercept=True, n_jobs=None, normalize=False)"
      ]
     },
     "execution_count": 34,
     "metadata": {},
     "output_type": "execute_result"
    }
   ],
   "source": [
    "reg.fit(X,Y)"
   ]
  },
  {
   "cell_type": "code",
   "execution_count": 35,
   "metadata": {},
   "outputs": [],
   "source": [
    "Y_predict = reg.predict(X)"
   ]
  },
  {
   "cell_type": "code",
   "execution_count": 36,
   "metadata": {},
   "outputs": [
    {
     "data": {
      "text/plain": [
       "array([-9.59257759e+29,  1.66635730e+29,  9.96898807e+29, ...,\n",
       "       -1.24768191e+30,  4.95828992e+29,  1.33159619e+30])"
      ]
     },
     "execution_count": 36,
     "metadata": {},
     "output_type": "execute_result"
    }
   ],
   "source": [
    "Y_predict"
   ]
  },
  {
   "cell_type": "code",
   "execution_count": 37,
   "metadata": {},
   "outputs": [
    {
     "data": {
      "text/plain": [
       "0.4637178522035744"
      ]
     },
     "execution_count": 37,
     "metadata": {},
     "output_type": "execute_result"
    }
   ],
   "source": [
    "reg.score(X, Y)"
   ]
  },
  {
   "cell_type": "code",
   "execution_count": 38,
   "metadata": {},
   "outputs": [
    {
     "data": {
      "text/plain": [
       "array([ 3.56634622e+26, -7.84566890e+26,  1.79930245e+28,  2.40137782e+27,\n",
       "        4.94274193e+27, -1.92068392e+26,  5.26594446e+26,  2.08312377e+35,\n",
       "        9.95381397e+33,  3.49557855e+30,  7.66169681e+27])"
      ]
     },
     "execution_count": 38,
     "metadata": {},
     "output_type": "execute_result"
    }
   ],
   "source": [
    "reg.coef_"
   ]
  },
  {
   "cell_type": "code",
   "execution_count": 39,
   "metadata": {},
   "outputs": [
    {
     "data": {
      "text/plain": [
       "2.153841293306356e+60"
      ]
     },
     "execution_count": 39,
     "metadata": {},
     "output_type": "execute_result"
    }
   ],
   "source": [
    "mean_squared_error(Y, Y_predict)"
   ]
  },
  {
   "cell_type": "code",
   "execution_count": 40,
   "metadata": {},
   "outputs": [
    {
     "data": {
      "text/plain": [
       "0.4637178522035744"
      ]
     },
     "execution_count": 40,
     "metadata": {},
     "output_type": "execute_result"
    }
   ],
   "source": [
    "r2_score(Y, Y_predict)"
   ]
  },
  {
   "cell_type": "code",
   "execution_count": null,
   "metadata": {},
   "outputs": [],
   "source": []
  }
 ],
 "metadata": {
  "kernelspec": {
   "display_name": "Python 3",
   "language": "python",
   "name": "python3"
  },
  "language_info": {
   "codemirror_mode": {
    "name": "ipython",
    "version": 3
   },
   "file_extension": ".py",
   "mimetype": "text/x-python",
   "name": "python",
   "nbconvert_exporter": "python",
   "pygments_lexer": "ipython3",
   "version": "3.7.6"
  }
 },
 "nbformat": 4,
 "nbformat_minor": 4
}
