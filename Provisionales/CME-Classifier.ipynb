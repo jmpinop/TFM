{
 "cells": [
  {
   "cell_type": "code",
   "execution_count": 215,
   "metadata": {},
   "outputs": [],
   "source": [
    "import pandas as pd\n",
    "import numpy as np\n",
    "import matplotlib.pyplot as plt\n",
    "import seaborn as sns\n",
    "%matplotlib inline\n",
    "pd.options.display.max_columns = None"
   ]
  },
  {
   "cell_type": "code",
   "execution_count": 216,
   "metadata": {},
   "outputs": [],
   "source": [
    "df = pd.read_fwf('Ficheros/CME/CME_all.txt', skiprows = 4, header = None)\n"
   ]
  },
  {
   "cell_type": "code",
   "execution_count": 217,
   "metadata": {},
   "outputs": [
    {
     "name": "stdout",
     "output_type": "stream",
     "text": [
      " ========= SOHO/LASCO CME CATALOG==========      LAST UPDATED: 2020/03/17 11:51\r\n",
      " Date       Time     Central  Width  Linear   2nd order speed      Accel     Mass      Kinetic    MPA   Remarks\r\n",
      "                        PA           Speed  initial final   20R                        Energy                 \r\n",
      "\r\n",
      "1996/01/11  00:14:36    267     18    499     571    426      0    -64.3*   -------    -------    272   Only C3\r\n",
      "1996/01/13  22:08:30    265     16    290     278    303    372      2.8*   -------    -------    266   Only C3\r\n",
      "1996/01/15  07:01:10    262     43    525     600    454      0    -31.1    -------    -------    272   Only C3\r\n",
      "1996/01/22  03:11:01    105     37    267     401    130      0   -126.3*   7.1e+13*   2.5e+28*   103   Very Poor Event; Only C3\r\n",
      "1996/01/26  09:16:19     90     27    262     254    271    322      1.9*   3.0e+14    1.0e+29     90   Poor Event; Only C3\r\n",
      "1996/01/31  06:52:13    274     47    158     219     99      0    -12.3*   2.5e+14*   3.2e+28*   272   Poor Event; Only 3 points\r\n",
      "cat: write error: Broken pipe\r\n"
     ]
    }
   ],
   "source": [
    "! cat \"Ficheros/CME/CME_all.txt\" | head"
   ]
  },
  {
   "cell_type": "code",
   "execution_count": 218,
   "metadata": {},
   "outputs": [],
   "source": [
    "columnas = ['Date', 'Time', 'Central_PA', 'Width', 'L_speed', '2_I_speed', '2_F_speed', '2_20R_speed', 'Acceleration',\n",
    "           'Mass', 'K_energy', 'MPA', 'Remarks']\n",
    "df = pd.read_fwf('Ficheros/CME/univ_all.txt', skiprows = 4, header = None, names = columnas, index_col = False,\n",
    "                na_values = [0, '', '--', '---', '----', '-----', '------', '-------', '********'])"
   ]
  },
  {
   "cell_type": "code",
   "execution_count": 219,
   "metadata": {},
   "outputs": [
    {
     "data": {
      "text/html": [
       "<div>\n",
       "<style scoped>\n",
       "    .dataframe tbody tr th:only-of-type {\n",
       "        vertical-align: middle;\n",
       "    }\n",
       "\n",
       "    .dataframe tbody tr th {\n",
       "        vertical-align: top;\n",
       "    }\n",
       "\n",
       "    .dataframe thead th {\n",
       "        text-align: right;\n",
       "    }\n",
       "</style>\n",
       "<table border=\"1\" class=\"dataframe\">\n",
       "  <thead>\n",
       "    <tr style=\"text-align: right;\">\n",
       "      <th></th>\n",
       "      <th>Date</th>\n",
       "      <th>Time</th>\n",
       "      <th>Central_PA</th>\n",
       "      <th>Width</th>\n",
       "      <th>L_speed</th>\n",
       "      <th>2_I_speed</th>\n",
       "      <th>2_F_speed</th>\n",
       "      <th>2_20R_speed</th>\n",
       "      <th>Acceleration</th>\n",
       "      <th>Mass</th>\n",
       "      <th>K_energy</th>\n",
       "      <th>MPA</th>\n",
       "      <th>Remarks</th>\n",
       "    </tr>\n",
       "  </thead>\n",
       "  <tbody>\n",
       "    <tr>\n",
       "      <th>0</th>\n",
       "      <td>1996/01/11</td>\n",
       "      <td>00:14:36</td>\n",
       "      <td>267</td>\n",
       "      <td>18</td>\n",
       "      <td>499.0</td>\n",
       "      <td>571.0</td>\n",
       "      <td>426.0</td>\n",
       "      <td>NaN</td>\n",
       "      <td>-64.3*</td>\n",
       "      <td>NaN</td>\n",
       "      <td>NaN</td>\n",
       "      <td>272.0</td>\n",
       "      <td>Only C3</td>\n",
       "    </tr>\n",
       "    <tr>\n",
       "      <th>1</th>\n",
       "      <td>1996/01/13</td>\n",
       "      <td>22:08:30</td>\n",
       "      <td>265</td>\n",
       "      <td>16</td>\n",
       "      <td>290.0</td>\n",
       "      <td>278.0</td>\n",
       "      <td>303.0</td>\n",
       "      <td>372.0</td>\n",
       "      <td>2.8*</td>\n",
       "      <td>NaN</td>\n",
       "      <td>NaN</td>\n",
       "      <td>266.0</td>\n",
       "      <td>Only C3</td>\n",
       "    </tr>\n",
       "    <tr>\n",
       "      <th>2</th>\n",
       "      <td>1996/01/15</td>\n",
       "      <td>07:01:10</td>\n",
       "      <td>262</td>\n",
       "      <td>43</td>\n",
       "      <td>525.0</td>\n",
       "      <td>600.0</td>\n",
       "      <td>454.0</td>\n",
       "      <td>NaN</td>\n",
       "      <td>-31.1</td>\n",
       "      <td>NaN</td>\n",
       "      <td>NaN</td>\n",
       "      <td>272.0</td>\n",
       "      <td>Only C3</td>\n",
       "    </tr>\n",
       "    <tr>\n",
       "      <th>3</th>\n",
       "      <td>1996/01/22</td>\n",
       "      <td>03:11:01</td>\n",
       "      <td>105</td>\n",
       "      <td>37</td>\n",
       "      <td>267.0</td>\n",
       "      <td>401.0</td>\n",
       "      <td>130.0</td>\n",
       "      <td>NaN</td>\n",
       "      <td>-126.3*</td>\n",
       "      <td>7.1e+13*</td>\n",
       "      <td>2.5e+28*</td>\n",
       "      <td>103.0</td>\n",
       "      <td>Very Poor Event; Only C3</td>\n",
       "    </tr>\n",
       "    <tr>\n",
       "      <th>4</th>\n",
       "      <td>1996/01/26</td>\n",
       "      <td>09:16:19</td>\n",
       "      <td>90</td>\n",
       "      <td>27</td>\n",
       "      <td>262.0</td>\n",
       "      <td>254.0</td>\n",
       "      <td>271.0</td>\n",
       "      <td>322.0</td>\n",
       "      <td>1.9*</td>\n",
       "      <td>3.0e+14</td>\n",
       "      <td>1.0e+29</td>\n",
       "      <td>90.0</td>\n",
       "      <td>Poor Event; Only C3</td>\n",
       "    </tr>\n",
       "    <tr>\n",
       "      <th>...</th>\n",
       "      <td>...</td>\n",
       "      <td>...</td>\n",
       "      <td>...</td>\n",
       "      <td>...</td>\n",
       "      <td>...</td>\n",
       "      <td>...</td>\n",
       "      <td>...</td>\n",
       "      <td>...</td>\n",
       "      <td>...</td>\n",
       "      <td>...</td>\n",
       "      <td>...</td>\n",
       "      <td>...</td>\n",
       "      <td>...</td>\n",
       "    </tr>\n",
       "    <tr>\n",
       "      <th>30316</th>\n",
       "      <td>2020/05/29</td>\n",
       "      <td>11:24:05</td>\n",
       "      <td>84</td>\n",
       "      <td>52</td>\n",
       "      <td>347.0</td>\n",
       "      <td>406.0</td>\n",
       "      <td>288.0</td>\n",
       "      <td>NaN</td>\n",
       "      <td>-21.9*</td>\n",
       "      <td>NaN</td>\n",
       "      <td>NaN</td>\n",
       "      <td>68.0</td>\n",
       "      <td>Poor Event; Only C2</td>\n",
       "    </tr>\n",
       "    <tr>\n",
       "      <th>30317</th>\n",
       "      <td>2020/05/29</td>\n",
       "      <td>15:12:05</td>\n",
       "      <td>83</td>\n",
       "      <td>46</td>\n",
       "      <td>204.0</td>\n",
       "      <td>215.0</td>\n",
       "      <td>193.0</td>\n",
       "      <td>NaN</td>\n",
       "      <td>-2.8*</td>\n",
       "      <td>NaN</td>\n",
       "      <td>NaN</td>\n",
       "      <td>74.0</td>\n",
       "      <td>Poor Event; Only C2</td>\n",
       "    </tr>\n",
       "    <tr>\n",
       "      <th>30318</th>\n",
       "      <td>2020/05/29</td>\n",
       "      <td>17:36:05</td>\n",
       "      <td>76</td>\n",
       "      <td>34</td>\n",
       "      <td>210.0</td>\n",
       "      <td>295.0</td>\n",
       "      <td>120.0</td>\n",
       "      <td>NaN</td>\n",
       "      <td>-19.3*</td>\n",
       "      <td>NaN</td>\n",
       "      <td>NaN</td>\n",
       "      <td>73.0</td>\n",
       "      <td>Poor Event; Only C2</td>\n",
       "    </tr>\n",
       "    <tr>\n",
       "      <th>30319</th>\n",
       "      <td>2020/05/30</td>\n",
       "      <td>01:25:43</td>\n",
       "      <td>80</td>\n",
       "      <td>39</td>\n",
       "      <td>269.0</td>\n",
       "      <td>203.0</td>\n",
       "      <td>339.0</td>\n",
       "      <td>331.0</td>\n",
       "      <td>2.8</td>\n",
       "      <td>NaN</td>\n",
       "      <td>NaN</td>\n",
       "      <td>86.0</td>\n",
       "      <td>NaN</td>\n",
       "    </tr>\n",
       "    <tr>\n",
       "      <th>30320</th>\n",
       "      <td>2020/05/30</td>\n",
       "      <td>08:48:05</td>\n",
       "      <td>259</td>\n",
       "      <td>23</td>\n",
       "      <td>146.0</td>\n",
       "      <td>107.0</td>\n",
       "      <td>180.0</td>\n",
       "      <td>399.0</td>\n",
       "      <td>6.5*</td>\n",
       "      <td>NaN</td>\n",
       "      <td>NaN</td>\n",
       "      <td>264.0</td>\n",
       "      <td>Very Poor Event</td>\n",
       "    </tr>\n",
       "  </tbody>\n",
       "</table>\n",
       "<p>30321 rows × 13 columns</p>\n",
       "</div>"
      ],
      "text/plain": [
       "             Date      Time Central_PA  Width  L_speed  2_I_speed  2_F_speed  \\\n",
       "0      1996/01/11  00:14:36        267     18    499.0      571.0      426.0   \n",
       "1      1996/01/13  22:08:30        265     16    290.0      278.0      303.0   \n",
       "2      1996/01/15  07:01:10        262     43    525.0      600.0      454.0   \n",
       "3      1996/01/22  03:11:01        105     37    267.0      401.0      130.0   \n",
       "4      1996/01/26  09:16:19         90     27    262.0      254.0      271.0   \n",
       "...           ...       ...        ...    ...      ...        ...        ...   \n",
       "30316  2020/05/29  11:24:05         84     52    347.0      406.0      288.0   \n",
       "30317  2020/05/29  15:12:05         83     46    204.0      215.0      193.0   \n",
       "30318  2020/05/29  17:36:05         76     34    210.0      295.0      120.0   \n",
       "30319  2020/05/30  01:25:43         80     39    269.0      203.0      339.0   \n",
       "30320  2020/05/30  08:48:05        259     23    146.0      107.0      180.0   \n",
       "\n",
       "       2_20R_speed Acceleration      Mass  K_energy    MPA  \\\n",
       "0              NaN       -64.3*       NaN       NaN  272.0   \n",
       "1            372.0         2.8*       NaN       NaN  266.0   \n",
       "2              NaN        -31.1       NaN       NaN  272.0   \n",
       "3              NaN      -126.3*  7.1e+13*  2.5e+28*  103.0   \n",
       "4            322.0         1.9*   3.0e+14   1.0e+29   90.0   \n",
       "...            ...          ...       ...       ...    ...   \n",
       "30316          NaN       -21.9*       NaN       NaN   68.0   \n",
       "30317          NaN        -2.8*       NaN       NaN   74.0   \n",
       "30318          NaN       -19.3*       NaN       NaN   73.0   \n",
       "30319        331.0          2.8       NaN       NaN   86.0   \n",
       "30320        399.0         6.5*       NaN       NaN  264.0   \n",
       "\n",
       "                        Remarks  \n",
       "0                       Only C3  \n",
       "1                       Only C3  \n",
       "2                       Only C3  \n",
       "3      Very Poor Event; Only C3  \n",
       "4           Poor Event; Only C3  \n",
       "...                         ...  \n",
       "30316       Poor Event; Only C2  \n",
       "30317       Poor Event; Only C2  \n",
       "30318       Poor Event; Only C2  \n",
       "30319                       NaN  \n",
       "30320           Very Poor Event  \n",
       "\n",
       "[30321 rows x 13 columns]"
      ]
     },
     "execution_count": 219,
     "metadata": {},
     "output_type": "execute_result"
    }
   ],
   "source": [
    "df"
   ]
  },
  {
   "cell_type": "code",
   "execution_count": 220,
   "metadata": {},
   "outputs": [
    {
     "name": "stdout",
     "output_type": "stream",
     "text": [
      "<class 'pandas.core.frame.DataFrame'>\n",
      "RangeIndex: 30321 entries, 0 to 30320\n",
      "Data columns (total 13 columns):\n",
      " #   Column        Non-Null Count  Dtype  \n",
      "---  ------        --------------  -----  \n",
      " 0   Date          30321 non-null  object \n",
      " 1   Time          30321 non-null  object \n",
      " 2   Central_PA    30273 non-null  object \n",
      " 3   Width         30321 non-null  int64  \n",
      " 4   L_speed       30213 non-null  float64\n",
      " 5   2_I_speed     28997 non-null  float64\n",
      " 6   2_F_speed     29756 non-null  float64\n",
      " 7   2_20R_speed   23256 non-null  float64\n",
      " 8   Acceleration  29831 non-null  object \n",
      " 9   Mass          19738 non-null  object \n",
      " 10  K_energy      19706 non-null  object \n",
      " 11  MPA           30299 non-null  float64\n",
      " 12  Remarks       21109 non-null  object \n",
      "dtypes: float64(5), int64(1), object(7)\n",
      "memory usage: 3.0+ MB\n"
     ]
    }
   ],
   "source": [
    "df.info()"
   ]
  },
  {
   "cell_type": "code",
   "execution_count": 221,
   "metadata": {},
   "outputs": [
    {
     "data": {
      "text/html": [
       "<div>\n",
       "<style scoped>\n",
       "    .dataframe tbody tr th:only-of-type {\n",
       "        vertical-align: middle;\n",
       "    }\n",
       "\n",
       "    .dataframe tbody tr th {\n",
       "        vertical-align: top;\n",
       "    }\n",
       "\n",
       "    .dataframe thead th {\n",
       "        text-align: right;\n",
       "    }\n",
       "</style>\n",
       "<table border=\"1\" class=\"dataframe\">\n",
       "  <thead>\n",
       "    <tr style=\"text-align: right;\">\n",
       "      <th></th>\n",
       "      <th>Date</th>\n",
       "      <th>Time</th>\n",
       "      <th>Central_PA</th>\n",
       "      <th>Width</th>\n",
       "      <th>L_speed</th>\n",
       "      <th>2_I_speed</th>\n",
       "      <th>2_F_speed</th>\n",
       "      <th>2_20R_speed</th>\n",
       "      <th>Acceleration</th>\n",
       "      <th>Mass</th>\n",
       "      <th>K_energy</th>\n",
       "      <th>MPA</th>\n",
       "      <th>Remarks</th>\n",
       "    </tr>\n",
       "  </thead>\n",
       "  <tbody>\n",
       "    <tr>\n",
       "      <th>0</th>\n",
       "      <td>1996/01/11</td>\n",
       "      <td>00:14:36</td>\n",
       "      <td>267</td>\n",
       "      <td>18</td>\n",
       "      <td>499.0</td>\n",
       "      <td>571.0</td>\n",
       "      <td>426.0</td>\n",
       "      <td>NaN</td>\n",
       "      <td>-64.3*</td>\n",
       "      <td>NaN</td>\n",
       "      <td>NaN</td>\n",
       "      <td>272.0</td>\n",
       "      <td>Only C3</td>\n",
       "    </tr>\n",
       "    <tr>\n",
       "      <th>1</th>\n",
       "      <td>1996/01/13</td>\n",
       "      <td>22:08:30</td>\n",
       "      <td>265</td>\n",
       "      <td>16</td>\n",
       "      <td>290.0</td>\n",
       "      <td>278.0</td>\n",
       "      <td>303.0</td>\n",
       "      <td>372.0</td>\n",
       "      <td>2.8*</td>\n",
       "      <td>NaN</td>\n",
       "      <td>NaN</td>\n",
       "      <td>266.0</td>\n",
       "      <td>Only C3</td>\n",
       "    </tr>\n",
       "    <tr>\n",
       "      <th>2</th>\n",
       "      <td>1996/01/15</td>\n",
       "      <td>07:01:10</td>\n",
       "      <td>262</td>\n",
       "      <td>43</td>\n",
       "      <td>525.0</td>\n",
       "      <td>600.0</td>\n",
       "      <td>454.0</td>\n",
       "      <td>NaN</td>\n",
       "      <td>-31.1</td>\n",
       "      <td>NaN</td>\n",
       "      <td>NaN</td>\n",
       "      <td>272.0</td>\n",
       "      <td>Only C3</td>\n",
       "    </tr>\n",
       "    <tr>\n",
       "      <th>3</th>\n",
       "      <td>1996/01/22</td>\n",
       "      <td>03:11:01</td>\n",
       "      <td>105</td>\n",
       "      <td>37</td>\n",
       "      <td>267.0</td>\n",
       "      <td>401.0</td>\n",
       "      <td>130.0</td>\n",
       "      <td>NaN</td>\n",
       "      <td>-126.3*</td>\n",
       "      <td>7.1e+13*</td>\n",
       "      <td>2.5e+28*</td>\n",
       "      <td>103.0</td>\n",
       "      <td>Very Poor Event; Only C3</td>\n",
       "    </tr>\n",
       "    <tr>\n",
       "      <th>4</th>\n",
       "      <td>1996/01/26</td>\n",
       "      <td>09:16:19</td>\n",
       "      <td>90</td>\n",
       "      <td>27</td>\n",
       "      <td>262.0</td>\n",
       "      <td>254.0</td>\n",
       "      <td>271.0</td>\n",
       "      <td>322.0</td>\n",
       "      <td>1.9*</td>\n",
       "      <td>3.0e+14</td>\n",
       "      <td>1.0e+29</td>\n",
       "      <td>90.0</td>\n",
       "      <td>Poor Event; Only C3</td>\n",
       "    </tr>\n",
       "  </tbody>\n",
       "</table>\n",
       "</div>"
      ],
      "text/plain": [
       "         Date      Time Central_PA  Width  L_speed  2_I_speed  2_F_speed  \\\n",
       "0  1996/01/11  00:14:36        267     18    499.0      571.0      426.0   \n",
       "1  1996/01/13  22:08:30        265     16    290.0      278.0      303.0   \n",
       "2  1996/01/15  07:01:10        262     43    525.0      600.0      454.0   \n",
       "3  1996/01/22  03:11:01        105     37    267.0      401.0      130.0   \n",
       "4  1996/01/26  09:16:19         90     27    262.0      254.0      271.0   \n",
       "\n",
       "   2_20R_speed Acceleration      Mass  K_energy    MPA  \\\n",
       "0          NaN       -64.3*       NaN       NaN  272.0   \n",
       "1        372.0         2.8*       NaN       NaN  266.0   \n",
       "2          NaN        -31.1       NaN       NaN  272.0   \n",
       "3          NaN      -126.3*  7.1e+13*  2.5e+28*  103.0   \n",
       "4        322.0         1.9*   3.0e+14   1.0e+29   90.0   \n",
       "\n",
       "                    Remarks  \n",
       "0                   Only C3  \n",
       "1                   Only C3  \n",
       "2                   Only C3  \n",
       "3  Very Poor Event; Only C3  \n",
       "4       Poor Event; Only C3  "
      ]
     },
     "execution_count": 221,
     "metadata": {},
     "output_type": "execute_result"
    }
   ],
   "source": [
    "df.head()"
   ]
  },
  {
   "cell_type": "code",
   "execution_count": 222,
   "metadata": {},
   "outputs": [
    {
     "data": {
      "text/plain": [
       "Date                0\n",
       "Time                0\n",
       "Central_PA         48\n",
       "Width               0\n",
       "L_speed           108\n",
       "2_I_speed        1324\n",
       "2_F_speed         565\n",
       "2_20R_speed      7065\n",
       "Acceleration      490\n",
       "Mass            10583\n",
       "K_energy        10615\n",
       "MPA                22\n",
       "Remarks          9212\n",
       "dtype: int64"
      ]
     },
     "execution_count": 222,
     "metadata": {},
     "output_type": "execute_result"
    }
   ],
   "source": [
    "df.isna().sum()"
   ]
  },
  {
   "cell_type": "code",
   "execution_count": 223,
   "metadata": {},
   "outputs": [
    {
     "name": "stderr",
     "output_type": "stream",
     "text": [
      "/home/jmpinop/anaconda3/lib/python3.7/site-packages/ipykernel_launcher.py:1: SettingWithCopyWarning: \n",
      "A value is trying to be set on a copy of a slice from a DataFrame\n",
      "\n",
      "See the caveats in the documentation: https://pandas.pydata.org/pandas-docs/stable/user_guide/indexing.html#returning-a-view-versus-a-copy\n",
      "  \"\"\"Entry point for launching an IPython kernel.\n"
     ]
    }
   ],
   "source": [
    "df.Central_PA[df.Central_PA == 'Halo'] = 360"
   ]
  },
  {
   "cell_type": "code",
   "execution_count": 224,
   "metadata": {},
   "outputs": [],
   "source": [
    "df['Central_PA'] = df['Central_PA'].astype(float)"
   ]
  },
  {
   "cell_type": "code",
   "execution_count": 225,
   "metadata": {},
   "outputs": [],
   "source": [
    "df['Central_PA'].fillna(method = 'ffill', inplace = True)\n",
    "df['L_speed'].fillna(method = 'ffill', inplace = True)\n",
    "df['2_I_speed'].fillna(method = 'ffill', inplace = True)\n",
    "df['2_F_speed'].fillna(method = 'ffill', inplace = True)\n",
    "df['2_20R_speed'].fillna(method = 'ffill', inplace = True)\n",
    "df['2_20R_speed'].fillna(method = 'bfill', inplace = True)\n",
    "df['Acceleration'].fillna(method = 'ffill', inplace = True)\n",
    "df['MPA'].fillna(method = 'ffill', inplace = True)"
   ]
  },
  {
   "cell_type": "code",
   "execution_count": 226,
   "metadata": {},
   "outputs": [],
   "source": [
    "df.drop(['Time'], axis = 'columns', inplace = True)\n",
    "df.drop(['Remarks'], axis = 'columns', inplace = True)\n",
    "df.drop(['Mass'], axis = 'columns', inplace = True)\n",
    "df.drop(['L_speed'], axis = 'columns', inplace = True)"
   ]
  },
  {
   "cell_type": "code",
   "execution_count": 227,
   "metadata": {},
   "outputs": [],
   "source": [
    "df.dropna(inplace = True)"
   ]
  },
  {
   "cell_type": "code",
   "execution_count": 228,
   "metadata": {},
   "outputs": [],
   "source": [
    "df['Acceleration'] = df['Acceleration'].str.rstrip('*')\n",
    "df['Acceleration'] = df['Acceleration'].astype(float)\n",
    "df['K_energy'] = df['K_energy'].str.rstrip('*')\n",
    "df['K_energy'] = df['K_energy'].astype(float)"
   ]
  },
  {
   "cell_type": "code",
   "execution_count": 229,
   "metadata": {},
   "outputs": [
    {
     "name": "stdout",
     "output_type": "stream",
     "text": [
      "<class 'pandas.core.frame.DataFrame'>\n",
      "Int64Index: 19706 entries, 3 to 30123\n",
      "Data columns (total 9 columns):\n",
      " #   Column        Non-Null Count  Dtype  \n",
      "---  ------        --------------  -----  \n",
      " 0   Date          19706 non-null  object \n",
      " 1   Central_PA    19706 non-null  float64\n",
      " 2   Width         19706 non-null  int64  \n",
      " 3   2_I_speed     19706 non-null  float64\n",
      " 4   2_F_speed     19706 non-null  float64\n",
      " 5   2_20R_speed   19706 non-null  float64\n",
      " 6   Acceleration  19706 non-null  float64\n",
      " 7   K_energy      19706 non-null  float64\n",
      " 8   MPA           19706 non-null  float64\n",
      "dtypes: float64(7), int64(1), object(1)\n",
      "memory usage: 1.5+ MB\n"
     ]
    }
   ],
   "source": [
    "df.info()"
   ]
  },
  {
   "cell_type": "code",
   "execution_count": 230,
   "metadata": {},
   "outputs": [
    {
     "data": {
      "text/html": [
       "<div>\n",
       "<style scoped>\n",
       "    .dataframe tbody tr th:only-of-type {\n",
       "        vertical-align: middle;\n",
       "    }\n",
       "\n",
       "    .dataframe tbody tr th {\n",
       "        vertical-align: top;\n",
       "    }\n",
       "\n",
       "    .dataframe thead th {\n",
       "        text-align: right;\n",
       "    }\n",
       "</style>\n",
       "<table border=\"1\" class=\"dataframe\">\n",
       "  <thead>\n",
       "    <tr style=\"text-align: right;\">\n",
       "      <th></th>\n",
       "      <th>Date</th>\n",
       "      <th>Central_PA</th>\n",
       "      <th>Width</th>\n",
       "      <th>2_I_speed</th>\n",
       "      <th>2_F_speed</th>\n",
       "      <th>2_20R_speed</th>\n",
       "      <th>Acceleration</th>\n",
       "      <th>K_energy</th>\n",
       "      <th>MPA</th>\n",
       "    </tr>\n",
       "  </thead>\n",
       "  <tbody>\n",
       "    <tr>\n",
       "      <th>3</th>\n",
       "      <td>1996/01/22</td>\n",
       "      <td>105.0</td>\n",
       "      <td>37</td>\n",
       "      <td>401.0</td>\n",
       "      <td>130.0</td>\n",
       "      <td>372.0</td>\n",
       "      <td>-126.3</td>\n",
       "      <td>2.500000e+28</td>\n",
       "      <td>103.0</td>\n",
       "    </tr>\n",
       "    <tr>\n",
       "      <th>4</th>\n",
       "      <td>1996/01/26</td>\n",
       "      <td>90.0</td>\n",
       "      <td>27</td>\n",
       "      <td>254.0</td>\n",
       "      <td>271.0</td>\n",
       "      <td>322.0</td>\n",
       "      <td>1.9</td>\n",
       "      <td>1.000000e+29</td>\n",
       "      <td>90.0</td>\n",
       "    </tr>\n",
       "    <tr>\n",
       "      <th>5</th>\n",
       "      <td>1996/01/31</td>\n",
       "      <td>274.0</td>\n",
       "      <td>47</td>\n",
       "      <td>219.0</td>\n",
       "      <td>99.0</td>\n",
       "      <td>322.0</td>\n",
       "      <td>-12.3</td>\n",
       "      <td>3.200000e+28</td>\n",
       "      <td>272.0</td>\n",
       "    </tr>\n",
       "    <tr>\n",
       "      <th>6</th>\n",
       "      <td>1996/02/03</td>\n",
       "      <td>83.0</td>\n",
       "      <td>52</td>\n",
       "      <td>294.0</td>\n",
       "      <td>317.0</td>\n",
       "      <td>309.0</td>\n",
       "      <td>0.9</td>\n",
       "      <td>8.900000e+29</td>\n",
       "      <td>80.0</td>\n",
       "    </tr>\n",
       "    <tr>\n",
       "      <th>7</th>\n",
       "      <td>1996/02/08</td>\n",
       "      <td>263.0</td>\n",
       "      <td>70</td>\n",
       "      <td>247.0</td>\n",
       "      <td>126.0</td>\n",
       "      <td>309.0</td>\n",
       "      <td>-6.0</td>\n",
       "      <td>2.700000e+28</td>\n",
       "      <td>249.0</td>\n",
       "    </tr>\n",
       "    <tr>\n",
       "      <th>...</th>\n",
       "      <td>...</td>\n",
       "      <td>...</td>\n",
       "      <td>...</td>\n",
       "      <td>...</td>\n",
       "      <td>...</td>\n",
       "      <td>...</td>\n",
       "      <td>...</td>\n",
       "      <td>...</td>\n",
       "      <td>...</td>\n",
       "    </tr>\n",
       "    <tr>\n",
       "      <th>30116</th>\n",
       "      <td>2019/12/26</td>\n",
       "      <td>99.0</td>\n",
       "      <td>58</td>\n",
       "      <td>196.0</td>\n",
       "      <td>104.0</td>\n",
       "      <td>1903.0</td>\n",
       "      <td>-11.1</td>\n",
       "      <td>9.200000e+27</td>\n",
       "      <td>109.0</td>\n",
       "    </tr>\n",
       "    <tr>\n",
       "      <th>30119</th>\n",
       "      <td>2019/12/27</td>\n",
       "      <td>302.0</td>\n",
       "      <td>21</td>\n",
       "      <td>62.0</td>\n",
       "      <td>779.0</td>\n",
       "      <td>2036.0</td>\n",
       "      <td>171.2</td>\n",
       "      <td>1.200000e+28</td>\n",
       "      <td>296.0</td>\n",
       "    </tr>\n",
       "    <tr>\n",
       "      <th>30121</th>\n",
       "      <td>2019/12/27</td>\n",
       "      <td>284.0</td>\n",
       "      <td>46</td>\n",
       "      <td>488.0</td>\n",
       "      <td>405.0</td>\n",
       "      <td>136.0</td>\n",
       "      <td>-9.1</td>\n",
       "      <td>5.900000e+28</td>\n",
       "      <td>289.0</td>\n",
       "    </tr>\n",
       "    <tr>\n",
       "      <th>30122</th>\n",
       "      <td>2019/12/30</td>\n",
       "      <td>277.0</td>\n",
       "      <td>39</td>\n",
       "      <td>29.0</td>\n",
       "      <td>75.0</td>\n",
       "      <td>195.0</td>\n",
       "      <td>1.6</td>\n",
       "      <td>6.900000e+27</td>\n",
       "      <td>278.0</td>\n",
       "    </tr>\n",
       "    <tr>\n",
       "      <th>30123</th>\n",
       "      <td>2019/12/30</td>\n",
       "      <td>256.0</td>\n",
       "      <td>83</td>\n",
       "      <td>12.0</td>\n",
       "      <td>189.0</td>\n",
       "      <td>250.0</td>\n",
       "      <td>2.6</td>\n",
       "      <td>4.900000e+28</td>\n",
       "      <td>242.0</td>\n",
       "    </tr>\n",
       "  </tbody>\n",
       "</table>\n",
       "<p>19706 rows × 9 columns</p>\n",
       "</div>"
      ],
      "text/plain": [
       "             Date  Central_PA  Width  2_I_speed  2_F_speed  2_20R_speed  \\\n",
       "3      1996/01/22       105.0     37      401.0      130.0        372.0   \n",
       "4      1996/01/26        90.0     27      254.0      271.0        322.0   \n",
       "5      1996/01/31       274.0     47      219.0       99.0        322.0   \n",
       "6      1996/02/03        83.0     52      294.0      317.0        309.0   \n",
       "7      1996/02/08       263.0     70      247.0      126.0        309.0   \n",
       "...           ...         ...    ...        ...        ...          ...   \n",
       "30116  2019/12/26        99.0     58      196.0      104.0       1903.0   \n",
       "30119  2019/12/27       302.0     21       62.0      779.0       2036.0   \n",
       "30121  2019/12/27       284.0     46      488.0      405.0        136.0   \n",
       "30122  2019/12/30       277.0     39       29.0       75.0        195.0   \n",
       "30123  2019/12/30       256.0     83       12.0      189.0        250.0   \n",
       "\n",
       "       Acceleration      K_energy    MPA  \n",
       "3            -126.3  2.500000e+28  103.0  \n",
       "4               1.9  1.000000e+29   90.0  \n",
       "5             -12.3  3.200000e+28  272.0  \n",
       "6               0.9  8.900000e+29   80.0  \n",
       "7              -6.0  2.700000e+28  249.0  \n",
       "...             ...           ...    ...  \n",
       "30116         -11.1  9.200000e+27  109.0  \n",
       "30119         171.2  1.200000e+28  296.0  \n",
       "30121          -9.1  5.900000e+28  289.0  \n",
       "30122           1.6  6.900000e+27  278.0  \n",
       "30123           2.6  4.900000e+28  242.0  \n",
       "\n",
       "[19706 rows x 9 columns]"
      ]
     },
     "execution_count": 230,
     "metadata": {},
     "output_type": "execute_result"
    }
   ],
   "source": [
    "df"
   ]
  },
  {
   "cell_type": "code",
   "execution_count": 231,
   "metadata": {},
   "outputs": [],
   "source": [
    "df['Date2'] = pd.to_datetime(df['Date'])"
   ]
  },
  {
   "cell_type": "code",
   "execution_count": 232,
   "metadata": {},
   "outputs": [],
   "source": [
    "df.drop(['Date'], axis = 'columns', inplace = True)\n"
   ]
  },
  {
   "cell_type": "code",
   "execution_count": 233,
   "metadata": {},
   "outputs": [
    {
     "data": {
      "text/html": [
       "<div>\n",
       "<style scoped>\n",
       "    .dataframe tbody tr th:only-of-type {\n",
       "        vertical-align: middle;\n",
       "    }\n",
       "\n",
       "    .dataframe tbody tr th {\n",
       "        vertical-align: top;\n",
       "    }\n",
       "\n",
       "    .dataframe thead th {\n",
       "        text-align: right;\n",
       "    }\n",
       "</style>\n",
       "<table border=\"1\" class=\"dataframe\">\n",
       "  <thead>\n",
       "    <tr style=\"text-align: right;\">\n",
       "      <th></th>\n",
       "      <th>Central_PA</th>\n",
       "      <th>Width</th>\n",
       "      <th>2_I_speed</th>\n",
       "      <th>2_F_speed</th>\n",
       "      <th>2_20R_speed</th>\n",
       "      <th>Acceleration</th>\n",
       "      <th>K_energy</th>\n",
       "      <th>MPA</th>\n",
       "      <th>Date2</th>\n",
       "    </tr>\n",
       "  </thead>\n",
       "  <tbody>\n",
       "    <tr>\n",
       "      <th>3</th>\n",
       "      <td>105.0</td>\n",
       "      <td>37</td>\n",
       "      <td>401.0</td>\n",
       "      <td>130.0</td>\n",
       "      <td>372.0</td>\n",
       "      <td>-126.3</td>\n",
       "      <td>2.500000e+28</td>\n",
       "      <td>103.0</td>\n",
       "      <td>1996-01-22</td>\n",
       "    </tr>\n",
       "    <tr>\n",
       "      <th>4</th>\n",
       "      <td>90.0</td>\n",
       "      <td>27</td>\n",
       "      <td>254.0</td>\n",
       "      <td>271.0</td>\n",
       "      <td>322.0</td>\n",
       "      <td>1.9</td>\n",
       "      <td>1.000000e+29</td>\n",
       "      <td>90.0</td>\n",
       "      <td>1996-01-26</td>\n",
       "    </tr>\n",
       "    <tr>\n",
       "      <th>5</th>\n",
       "      <td>274.0</td>\n",
       "      <td>47</td>\n",
       "      <td>219.0</td>\n",
       "      <td>99.0</td>\n",
       "      <td>322.0</td>\n",
       "      <td>-12.3</td>\n",
       "      <td>3.200000e+28</td>\n",
       "      <td>272.0</td>\n",
       "      <td>1996-01-31</td>\n",
       "    </tr>\n",
       "    <tr>\n",
       "      <th>6</th>\n",
       "      <td>83.0</td>\n",
       "      <td>52</td>\n",
       "      <td>294.0</td>\n",
       "      <td>317.0</td>\n",
       "      <td>309.0</td>\n",
       "      <td>0.9</td>\n",
       "      <td>8.900000e+29</td>\n",
       "      <td>80.0</td>\n",
       "      <td>1996-02-03</td>\n",
       "    </tr>\n",
       "    <tr>\n",
       "      <th>7</th>\n",
       "      <td>263.0</td>\n",
       "      <td>70</td>\n",
       "      <td>247.0</td>\n",
       "      <td>126.0</td>\n",
       "      <td>309.0</td>\n",
       "      <td>-6.0</td>\n",
       "      <td>2.700000e+28</td>\n",
       "      <td>249.0</td>\n",
       "      <td>1996-02-08</td>\n",
       "    </tr>\n",
       "    <tr>\n",
       "      <th>...</th>\n",
       "      <td>...</td>\n",
       "      <td>...</td>\n",
       "      <td>...</td>\n",
       "      <td>...</td>\n",
       "      <td>...</td>\n",
       "      <td>...</td>\n",
       "      <td>...</td>\n",
       "      <td>...</td>\n",
       "      <td>...</td>\n",
       "    </tr>\n",
       "    <tr>\n",
       "      <th>30116</th>\n",
       "      <td>99.0</td>\n",
       "      <td>58</td>\n",
       "      <td>196.0</td>\n",
       "      <td>104.0</td>\n",
       "      <td>1903.0</td>\n",
       "      <td>-11.1</td>\n",
       "      <td>9.200000e+27</td>\n",
       "      <td>109.0</td>\n",
       "      <td>2019-12-26</td>\n",
       "    </tr>\n",
       "    <tr>\n",
       "      <th>30119</th>\n",
       "      <td>302.0</td>\n",
       "      <td>21</td>\n",
       "      <td>62.0</td>\n",
       "      <td>779.0</td>\n",
       "      <td>2036.0</td>\n",
       "      <td>171.2</td>\n",
       "      <td>1.200000e+28</td>\n",
       "      <td>296.0</td>\n",
       "      <td>2019-12-27</td>\n",
       "    </tr>\n",
       "    <tr>\n",
       "      <th>30121</th>\n",
       "      <td>284.0</td>\n",
       "      <td>46</td>\n",
       "      <td>488.0</td>\n",
       "      <td>405.0</td>\n",
       "      <td>136.0</td>\n",
       "      <td>-9.1</td>\n",
       "      <td>5.900000e+28</td>\n",
       "      <td>289.0</td>\n",
       "      <td>2019-12-27</td>\n",
       "    </tr>\n",
       "    <tr>\n",
       "      <th>30122</th>\n",
       "      <td>277.0</td>\n",
       "      <td>39</td>\n",
       "      <td>29.0</td>\n",
       "      <td>75.0</td>\n",
       "      <td>195.0</td>\n",
       "      <td>1.6</td>\n",
       "      <td>6.900000e+27</td>\n",
       "      <td>278.0</td>\n",
       "      <td>2019-12-30</td>\n",
       "    </tr>\n",
       "    <tr>\n",
       "      <th>30123</th>\n",
       "      <td>256.0</td>\n",
       "      <td>83</td>\n",
       "      <td>12.0</td>\n",
       "      <td>189.0</td>\n",
       "      <td>250.0</td>\n",
       "      <td>2.6</td>\n",
       "      <td>4.900000e+28</td>\n",
       "      <td>242.0</td>\n",
       "      <td>2019-12-30</td>\n",
       "    </tr>\n",
       "  </tbody>\n",
       "</table>\n",
       "<p>19706 rows × 9 columns</p>\n",
       "</div>"
      ],
      "text/plain": [
       "       Central_PA  Width  2_I_speed  2_F_speed  2_20R_speed  Acceleration  \\\n",
       "3           105.0     37      401.0      130.0        372.0        -126.3   \n",
       "4            90.0     27      254.0      271.0        322.0           1.9   \n",
       "5           274.0     47      219.0       99.0        322.0         -12.3   \n",
       "6            83.0     52      294.0      317.0        309.0           0.9   \n",
       "7           263.0     70      247.0      126.0        309.0          -6.0   \n",
       "...           ...    ...        ...        ...          ...           ...   \n",
       "30116        99.0     58      196.0      104.0       1903.0         -11.1   \n",
       "30119       302.0     21       62.0      779.0       2036.0         171.2   \n",
       "30121       284.0     46      488.0      405.0        136.0          -9.1   \n",
       "30122       277.0     39       29.0       75.0        195.0           1.6   \n",
       "30123       256.0     83       12.0      189.0        250.0           2.6   \n",
       "\n",
       "           K_energy    MPA      Date2  \n",
       "3      2.500000e+28  103.0 1996-01-22  \n",
       "4      1.000000e+29   90.0 1996-01-26  \n",
       "5      3.200000e+28  272.0 1996-01-31  \n",
       "6      8.900000e+29   80.0 1996-02-03  \n",
       "7      2.700000e+28  249.0 1996-02-08  \n",
       "...             ...    ...        ...  \n",
       "30116  9.200000e+27  109.0 2019-12-26  \n",
       "30119  1.200000e+28  296.0 2019-12-27  \n",
       "30121  5.900000e+28  289.0 2019-12-27  \n",
       "30122  6.900000e+27  278.0 2019-12-30  \n",
       "30123  4.900000e+28  242.0 2019-12-30  \n",
       "\n",
       "[19706 rows x 9 columns]"
      ]
     },
     "execution_count": 233,
     "metadata": {},
     "output_type": "execute_result"
    }
   ],
   "source": [
    "df"
   ]
  },
  {
   "cell_type": "code",
   "execution_count": 234,
   "metadata": {},
   "outputs": [
    {
     "data": {
      "text/plain": [
       "Central_PA             float64\n",
       "Width                    int64\n",
       "2_I_speed              float64\n",
       "2_F_speed              float64\n",
       "2_20R_speed            float64\n",
       "Acceleration           float64\n",
       "K_energy               float64\n",
       "MPA                    float64\n",
       "Date2           datetime64[ns]\n",
       "dtype: object"
      ]
     },
     "execution_count": 234,
     "metadata": {},
     "output_type": "execute_result"
    }
   ],
   "source": [
    "df.dtypes"
   ]
  },
  {
   "cell_type": "code",
   "execution_count": 235,
   "metadata": {},
   "outputs": [],
   "source": [
    "df = df.rename(columns={'Date2':'Date'})"
   ]
  },
  {
   "cell_type": "code",
   "execution_count": 236,
   "metadata": {},
   "outputs": [],
   "source": [
    "grouped = df.groupby('Date')"
   ]
  },
  {
   "cell_type": "raw",
   "metadata": {},
   "source": [
    "grouped.sum()"
   ]
  },
  {
   "cell_type": "code",
   "execution_count": 237,
   "metadata": {},
   "outputs": [],
   "source": [
    "grouped2 = grouped.mean()"
   ]
  },
  {
   "cell_type": "code",
   "execution_count": 238,
   "metadata": {},
   "outputs": [
    {
     "data": {
      "text/plain": [
       "<bound method DataFrame.reset_index of             Central_PA  Width  2_I_speed  2_F_speed  2_20R_speed  \\\n",
       "Date                                                               \n",
       "1996-01-22       105.0   37.0      401.0      130.0        372.0   \n",
       "1996-01-26        90.0   27.0      254.0      271.0        322.0   \n",
       "1996-01-31       274.0   47.0      219.0       99.0        322.0   \n",
       "1996-02-03        83.0   52.0      294.0      317.0        309.0   \n",
       "1996-02-08       263.0   70.0      247.0      126.0        309.0   \n",
       "...                ...    ...        ...        ...          ...   \n",
       "2019-12-24       282.0   57.0      157.0      288.0        615.0   \n",
       "2019-12-25       274.0   49.0      337.0      245.0       1903.0   \n",
       "2019-12-26        99.0   58.0      196.0      104.0       1903.0   \n",
       "2019-12-27       293.0   33.5      275.0      592.0       1086.0   \n",
       "2019-12-30       266.5   61.0       20.5      132.0        222.5   \n",
       "\n",
       "            Acceleration      K_energy    MPA  \n",
       "Date                                           \n",
       "1996-01-22       -126.30  2.500000e+28  103.0  \n",
       "1996-01-26          1.90  1.000000e+29   90.0  \n",
       "1996-01-31        -12.30  3.200000e+28  272.0  \n",
       "1996-02-03          0.90  8.900000e+29   80.0  \n",
       "1996-02-08         -6.00  2.700000e+28  249.0  \n",
       "...                  ...           ...    ...  \n",
       "2019-12-24         14.60  1.500000e+28  289.0  \n",
       "2019-12-25        -14.30  1.300000e+28  268.0  \n",
       "2019-12-26        -11.10  9.200000e+27  109.0  \n",
       "2019-12-27         81.05  3.550000e+28  292.5  \n",
       "2019-12-30          2.10  2.795000e+28  260.0  \n",
       "\n",
       "[6553 rows x 8 columns]>"
      ]
     },
     "execution_count": 238,
     "metadata": {},
     "output_type": "execute_result"
    }
   ],
   "source": [
    "grouped.mean().reset_index"
   ]
  },
  {
   "cell_type": "code",
   "execution_count": 239,
   "metadata": {},
   "outputs": [],
   "source": [
    "grouped2 =grouped2.reset_index()"
   ]
  },
  {
   "cell_type": "code",
   "execution_count": 240,
   "metadata": {},
   "outputs": [
    {
     "data": {
      "text/html": [
       "<div>\n",
       "<style scoped>\n",
       "    .dataframe tbody tr th:only-of-type {\n",
       "        vertical-align: middle;\n",
       "    }\n",
       "\n",
       "    .dataframe tbody tr th {\n",
       "        vertical-align: top;\n",
       "    }\n",
       "\n",
       "    .dataframe thead th {\n",
       "        text-align: right;\n",
       "    }\n",
       "</style>\n",
       "<table border=\"1\" class=\"dataframe\">\n",
       "  <thead>\n",
       "    <tr style=\"text-align: right;\">\n",
       "      <th></th>\n",
       "      <th>Central_PA</th>\n",
       "      <th>Width</th>\n",
       "      <th>2_I_speed</th>\n",
       "      <th>2_F_speed</th>\n",
       "      <th>2_20R_speed</th>\n",
       "      <th>Acceleration</th>\n",
       "      <th>K_energy</th>\n",
       "      <th>MPA</th>\n",
       "    </tr>\n",
       "  </thead>\n",
       "  <tbody>\n",
       "    <tr>\n",
       "      <th>count</th>\n",
       "      <td>6553.000000</td>\n",
       "      <td>6553.000000</td>\n",
       "      <td>6553.000000</td>\n",
       "      <td>6553.000000</td>\n",
       "      <td>6553.000000</td>\n",
       "      <td>6553.000000</td>\n",
       "      <td>6.553000e+03</td>\n",
       "      <td>6553.000000</td>\n",
       "    </tr>\n",
       "    <tr>\n",
       "      <th>mean</th>\n",
       "      <td>185.250155</td>\n",
       "      <td>69.490918</td>\n",
       "      <td>359.203055</td>\n",
       "      <td>393.939621</td>\n",
       "      <td>545.972617</td>\n",
       "      <td>2.270486</td>\n",
       "      <td>5.627735e+30</td>\n",
       "      <td>180.308322</td>\n",
       "    </tr>\n",
       "    <tr>\n",
       "      <th>std</th>\n",
       "      <td>74.088854</td>\n",
       "      <td>47.728418</td>\n",
       "      <td>232.638541</td>\n",
       "      <td>203.565898</td>\n",
       "      <td>288.704705</td>\n",
       "      <td>20.753967</td>\n",
       "      <td>6.421144e+31</td>\n",
       "      <td>72.388486</td>\n",
       "    </tr>\n",
       "    <tr>\n",
       "      <th>min</th>\n",
       "      <td>1.000000</td>\n",
       "      <td>11.000000</td>\n",
       "      <td>2.000000</td>\n",
       "      <td>9.000000</td>\n",
       "      <td>21.000000</td>\n",
       "      <td>-232.000000</td>\n",
       "      <td>5.500000e+24</td>\n",
       "      <td>1.000000</td>\n",
       "    </tr>\n",
       "    <tr>\n",
       "      <th>25%</th>\n",
       "      <td>126.250000</td>\n",
       "      <td>40.000000</td>\n",
       "      <td>210.000000</td>\n",
       "      <td>265.500000</td>\n",
       "      <td>368.000000</td>\n",
       "      <td>-3.840000</td>\n",
       "      <td>6.700000e+28</td>\n",
       "      <td>120.600000</td>\n",
       "    </tr>\n",
       "    <tr>\n",
       "      <th>50%</th>\n",
       "      <td>186.250000</td>\n",
       "      <td>57.000000</td>\n",
       "      <td>312.666667</td>\n",
       "      <td>361.666667</td>\n",
       "      <td>496.600000</td>\n",
       "      <td>1.833333</td>\n",
       "      <td>3.855000e+29</td>\n",
       "      <td>181.250000</td>\n",
       "    </tr>\n",
       "    <tr>\n",
       "      <th>75%</th>\n",
       "      <td>245.000000</td>\n",
       "      <td>82.000000</td>\n",
       "      <td>454.000000</td>\n",
       "      <td>478.600000</td>\n",
       "      <td>653.000000</td>\n",
       "      <td>7.200000</td>\n",
       "      <td>1.968700e+30</td>\n",
       "      <td>239.333333</td>\n",
       "    </tr>\n",
       "    <tr>\n",
       "      <th>max</th>\n",
       "      <td>360.000000</td>\n",
       "      <td>360.000000</td>\n",
       "      <td>3703.000000</td>\n",
       "      <td>2558.000000</td>\n",
       "      <td>3728.000000</td>\n",
       "      <td>446.100000</td>\n",
       "      <td>4.200000e+33</td>\n",
       "      <td>359.000000</td>\n",
       "    </tr>\n",
       "  </tbody>\n",
       "</table>\n",
       "</div>"
      ],
      "text/plain": [
       "        Central_PA        Width    2_I_speed    2_F_speed  2_20R_speed  \\\n",
       "count  6553.000000  6553.000000  6553.000000  6553.000000  6553.000000   \n",
       "mean    185.250155    69.490918   359.203055   393.939621   545.972617   \n",
       "std      74.088854    47.728418   232.638541   203.565898   288.704705   \n",
       "min       1.000000    11.000000     2.000000     9.000000    21.000000   \n",
       "25%     126.250000    40.000000   210.000000   265.500000   368.000000   \n",
       "50%     186.250000    57.000000   312.666667   361.666667   496.600000   \n",
       "75%     245.000000    82.000000   454.000000   478.600000   653.000000   \n",
       "max     360.000000   360.000000  3703.000000  2558.000000  3728.000000   \n",
       "\n",
       "       Acceleration      K_energy          MPA  \n",
       "count   6553.000000  6.553000e+03  6553.000000  \n",
       "mean       2.270486  5.627735e+30   180.308322  \n",
       "std       20.753967  6.421144e+31    72.388486  \n",
       "min     -232.000000  5.500000e+24     1.000000  \n",
       "25%       -3.840000  6.700000e+28   120.600000  \n",
       "50%        1.833333  3.855000e+29   181.250000  \n",
       "75%        7.200000  1.968700e+30   239.333333  \n",
       "max      446.100000  4.200000e+33   359.000000  "
      ]
     },
     "execution_count": 240,
     "metadata": {},
     "output_type": "execute_result"
    }
   ],
   "source": [
    "grouped2.describe()"
   ]
  },
  {
   "cell_type": "code",
   "execution_count": null,
   "metadata": {},
   "outputs": [],
   "source": []
  },
  {
   "cell_type": "code",
   "execution_count": 241,
   "metadata": {},
   "outputs": [
    {
     "data": {
      "text/plain": [
       "<matplotlib.axes._subplots.AxesSubplot at 0x7f751cfbc250>"
      ]
     },
     "execution_count": 241,
     "metadata": {},
     "output_type": "execute_result"
    },
    {
     "data": {
      "image/png": "[encoded data removed]",
      "text/plain": [
       "<Figure size 432x288 with 1 Axes>"
      ]
     },
     "metadata": {
      "needs_background": "light"
     },
     "output_type": "display_data"
    }
   ],
   "source": [
    "sns.distplot(grouped2['2_I_speed'])"
   ]
  },
  {
   "cell_type": "code",
   "execution_count": 242,
   "metadata": {},
   "outputs": [
    {
     "data": {
      "text/plain": [
       "77"
      ]
     },
     "execution_count": 242,
     "metadata": {},
     "output_type": "execute_result"
    }
   ],
   "source": [
    "len(grouped2[grouped2['2_I_speed'] > 1100])"
   ]
  },
  {
   "cell_type": "code",
   "execution_count": 243,
   "metadata": {},
   "outputs": [],
   "source": [
    "grouped2.drop(grouped2[grouped2['2_I_speed'] >= 1100].index, inplace =True)"
   ]
  },
  {
   "cell_type": "code",
   "execution_count": 244,
   "metadata": {},
   "outputs": [
    {
     "data": {
      "text/plain": [
       "<matplotlib.axes._subplots.AxesSubplot at 0x7f751d01af90>"
      ]
     },
     "execution_count": 244,
     "metadata": {},
     "output_type": "execute_result"
    },
    {
     "data": {
      "image/png": "[encoded data removed]",
      "text/plain": [
       "<Figure size 432x288 with 1 Axes>"
      ]
     },
     "metadata": {
      "needs_background": "light"
     },
     "output_type": "display_data"
    }
   ],
   "source": [
    "sns.distplot(grouped2['2_F_speed'])"
   ]
  },
  {
   "cell_type": "code",
   "execution_count": 245,
   "metadata": {},
   "outputs": [
    {
     "data": {
      "text/plain": [
       "37"
      ]
     },
     "execution_count": 245,
     "metadata": {},
     "output_type": "execute_result"
    }
   ],
   "source": [
    "len(grouped2[grouped2['2_F_speed'] > 1000])"
   ]
  },
  {
   "cell_type": "code",
   "execution_count": 246,
   "metadata": {},
   "outputs": [],
   "source": [
    "grouped2.drop(grouped2[grouped2['2_F_speed'] >= 1000].index, inplace =True)"
   ]
  },
  {
   "cell_type": "code",
   "execution_count": 247,
   "metadata": {},
   "outputs": [
    {
     "data": {
      "text/plain": [
       "<matplotlib.axes._subplots.AxesSubplot at 0x7f751d06ae10>"
      ]
     },
     "execution_count": 247,
     "metadata": {},
     "output_type": "execute_result"
    },
    {
     "data": {
      "image/png": "[encoded data removed]",
      "text/plain": [
       "<Figure size 432x288 with 1 Axes>"
      ]
     },
     "metadata": {
      "needs_background": "light"
     },
     "output_type": "display_data"
    }
   ],
   "source": [
    "sns.distplot(grouped2['2_20R_speed'])"
   ]
  },
  {
   "cell_type": "code",
   "execution_count": 248,
   "metadata": {},
   "outputs": [
    {
     "data": {
      "text/plain": [
       "64"
      ]
     },
     "execution_count": 248,
     "metadata": {},
     "output_type": "execute_result"
    }
   ],
   "source": [
    "len(grouped2[grouped2['2_20R_speed'] > 1500])"
   ]
  },
  {
   "cell_type": "code",
   "execution_count": 249,
   "metadata": {},
   "outputs": [],
   "source": [
    "grouped2.drop(grouped2[grouped2['2_20R_speed'] >= 1500].index, inplace =True)"
   ]
  },
  {
   "cell_type": "code",
   "execution_count": 250,
   "metadata": {},
   "outputs": [
    {
     "data": {
      "text/plain": [
       "<matplotlib.axes._subplots.AxesSubplot at 0x7f751d038f90>"
      ]
     },
     "execution_count": 250,
     "metadata": {},
     "output_type": "execute_result"
    },
    {
     "data": {
      "image/png": "[encoded data removed]",
      "text/plain": [
       "<Figure size 432x288 with 1 Axes>"
      ]
     },
     "metadata": {
      "needs_background": "light"
     },
     "output_type": "display_data"
    }
   ],
   "source": [
    "sns.distplot(grouped2['Acceleration'])"
   ]
  },
  {
   "cell_type": "code",
   "execution_count": 251,
   "metadata": {},
   "outputs": [],
   "source": [
    "grouped2.drop(['Acceleration'], axis = 'columns', inplace = True)"
   ]
  },
  {
   "cell_type": "code",
   "execution_count": 252,
   "metadata": {},
   "outputs": [
    {
     "data": {
      "text/plain": [
       "<matplotlib.axes._subplots.AxesSubplot at 0x7f751d0850d0>"
      ]
     },
     "execution_count": 252,
     "metadata": {},
     "output_type": "execute_result"
    },
    {
     "data": {
      "image/png": "[encoded data removed]",
      "text/plain": [
       "<Figure size 432x288 with 1 Axes>"
      ]
     },
     "metadata": {
      "needs_background": "light"
     },
     "output_type": "display_data"
    }
   ],
   "source": [
    "sns.distplot(grouped2['K_energy'])"
   ]
  },
  {
   "cell_type": "code",
   "execution_count": 253,
   "metadata": {},
   "outputs": [
    {
     "data": {
      "text/plain": [
       "5.5e+24"
      ]
     },
     "execution_count": 253,
     "metadata": {},
     "output_type": "execute_result"
    }
   ],
   "source": [
    "grouped2.K_energy.min()"
   ]
  },
  {
   "cell_type": "code",
   "execution_count": 254,
   "metadata": {},
   "outputs": [],
   "source": [
    "df = grouped2"
   ]
  },
  {
   "cell_type": "code",
   "execution_count": 255,
   "metadata": {},
   "outputs": [
    {
     "data": {
      "text/plain": [
       "2.85335e+32"
      ]
     },
     "execution_count": 255,
     "metadata": {},
     "output_type": "execute_result"
    }
   ],
   "source": [
    "grouped2.K_energy.max()"
   ]
  },
  {
   "cell_type": "code",
   "execution_count": 256,
   "metadata": {},
   "outputs": [],
   "source": [
    "cond1 = (df['K_energy'] > 1e+24) & (df['K_energy'] < 1e+25) \n",
    "cond2 = (df['K_energy'] >= 1e+25) & (df['K_energy'] < 1e+26) \n",
    "cond3 = (df['K_energy'] >= 1e+26) & (df['K_energy'] < 1e+27)\n",
    "cond4 = (df['K_energy'] >= 1e+27) & (df['K_energy'] < 1e+28) \n",
    "cond5 = (df['K_energy'] >= 1e+28) & (df['K_energy'] < 1e+29) \n",
    "cond6 = (df['K_energy'] >= 1e+29) & (df['K_energy'] < 1e+30)\n",
    "cond7 = (df['K_energy'] >= 1e+30) & (df['K_energy'] < 1e+31) \n",
    "cond8 = (df['K_energy'] >= 1e+31) & (df['K_energy'] < 1e+32) \n",
    "cond9 = (df['K_energy'] >= 1e+32) "
   ]
  },
  {
   "cell_type": "code",
   "execution_count": 263,
   "metadata": {},
   "outputs": [
    {
     "name": "stdout",
     "output_type": "stream",
     "text": [
      "0 0 76 450 1397 2222 1807 401 0\n"
     ]
    },
    {
     "name": "stderr",
     "output_type": "stream",
     "text": [
      "/home/jmpinop/anaconda3/lib/python3.7/site-packages/ipykernel_launcher.py:1: UserWarning: Boolean Series key will be reindexed to match DataFrame index.\n",
      "  \"\"\"Entry point for launching an IPython kernel.\n",
      "/home/jmpinop/anaconda3/lib/python3.7/site-packages/ipykernel_launcher.py:2: UserWarning: Boolean Series key will be reindexed to match DataFrame index.\n",
      "  \n"
     ]
    }
   ],
   "source": [
    "print(len(df[cond1]), len(df[cond2]), len(df[cond3]), len(df[cond4]), len(df[cond5]), len(df[cond6]), len(df[cond7]),\n",
    "len(df[cond8]), len(df[cond9]))"
   ]
  },
  {
   "cell_type": "code",
   "execution_count": 261,
   "metadata": {},
   "outputs": [
    {
     "name": "stderr",
     "output_type": "stream",
     "text": [
      "/home/jmpinop/anaconda3/lib/python3.7/site-packages/ipykernel_launcher.py:1: UserWarning: Boolean Series key will be reindexed to match DataFrame index.\n",
      "  \"\"\"Entry point for launching an IPython kernel.\n",
      "/home/jmpinop/anaconda3/lib/python3.7/site-packages/ipykernel_launcher.py:2: UserWarning: Boolean Series key will be reindexed to match DataFrame index.\n",
      "  \n",
      "/home/jmpinop/anaconda3/lib/python3.7/site-packages/ipykernel_launcher.py:3: UserWarning: Boolean Series key will be reindexed to match DataFrame index.\n",
      "  This is separate from the ipykernel package so we can avoid doing imports until\n"
     ]
    }
   ],
   "source": [
    "df.drop(df[cond1].index, inplace =True)\n",
    "df.drop(df[cond2].index, inplace =True)\n",
    "df.drop(df[cond9].index, inplace =True)"
   ]
  },
  {
   "cell_type": "code",
   "execution_count": 264,
   "metadata": {},
   "outputs": [
    {
     "data": {
      "text/plain": [
       "1e+26"
      ]
     },
     "execution_count": 264,
     "metadata": {},
     "output_type": "execute_result"
    }
   ],
   "source": [
    "grouped2.K_energy.min()"
   ]
  },
  {
   "cell_type": "code",
   "execution_count": 265,
   "metadata": {},
   "outputs": [
    {
     "data": {
      "text/plain": [
       "9.83625e+31"
      ]
     },
     "execution_count": 265,
     "metadata": {},
     "output_type": "execute_result"
    }
   ],
   "source": [
    "grouped2.K_energy.max()"
   ]
  },
  {
   "cell_type": "code",
   "execution_count": 262,
   "metadata": {},
   "outputs": [
    {
     "data": {
      "text/plain": [
       "<matplotlib.axes._subplots.AxesSubplot at 0x7f751d07bdd0>"
      ]
     },
     "execution_count": 262,
     "metadata": {},
     "output_type": "execute_result"
    },
    {
     "data": {
      "image/png": "[encoded data removed]",
      "text/plain": [
       "<Figure size 432x288 with 1 Axes>"
      ]
     },
     "metadata": {
      "needs_background": "light"
     },
     "output_type": "display_data"
    }
   ],
   "source": [
    "sns.distplot(grouped2['K_energy'])"
   ]
  },
  {
   "cell_type": "code",
   "execution_count": 266,
   "metadata": {},
   "outputs": [],
   "source": [
    "def Classifier(row):\n",
    "    result = 0\n",
    "    if (row['K_energy'] > 1e+26) and (row['K_energy'] < 1e+27):\n",
    "        result = 1\n",
    "    elif (row['K_energy'] >= 1e+27) and (row['K_energy'] < 1e+28):\n",
    "        result = 2\n",
    "    elif (row['K_energy'] >= 1e+28) and (row['K_energy'] < 1e+29):\n",
    "        result = 3\n",
    "    elif (row['K_energy'] >= 1e+29) and (row['K_energy'] < 1e+30):\n",
    "        result = 4\n",
    "    elif (row['K_energy'] >= 1e+30) and (row['K_energy'] < 1e+31):\n",
    "        result = 5\n",
    "    elif (row['K_energy'] >= 1e+31):\n",
    "        result = 6\n",
    "    \n",
    "    return result\n",
    "    "
   ]
  },
  {
   "cell_type": "code",
   "execution_count": 267,
   "metadata": {},
   "outputs": [],
   "source": [
    "df['C1'] = df.apply(Classifier, axis = 1)"
   ]
  },
  {
   "cell_type": "code",
   "execution_count": 268,
   "metadata": {},
   "outputs": [
    {
     "name": "stdout",
     "output_type": "stream",
     "text": [
      "<class 'pandas.core.frame.DataFrame'>\n",
      "Int64Index: 6353 entries, 0 to 6552\n",
      "Data columns (total 9 columns):\n",
      " #   Column       Non-Null Count  Dtype         \n",
      "---  ------       --------------  -----         \n",
      " 0   Date         6353 non-null   datetime64[ns]\n",
      " 1   Central_PA   6353 non-null   float64       \n",
      " 2   Width        6353 non-null   float64       \n",
      " 3   2_I_speed    6353 non-null   float64       \n",
      " 4   2_F_speed    6353 non-null   float64       \n",
      " 5   2_20R_speed  6353 non-null   float64       \n",
      " 6   K_energy     6353 non-null   float64       \n",
      " 7   MPA          6353 non-null   float64       \n",
      " 8   C1           6353 non-null   int64         \n",
      "dtypes: datetime64[ns](1), float64(7), int64(1)\n",
      "memory usage: 496.3 KB\n"
     ]
    }
   ],
   "source": [
    "df.info()"
   ]
  },
  {
   "cell_type": "code",
   "execution_count": 271,
   "metadata": {},
   "outputs": [
    {
     "data": {
      "text/plain": [
       "<bound method DataFrame.sum of            Date  Central_PA  Width  2_I_speed  2_F_speed  2_20R_speed  \\\n",
       "8    1996-03-02        88.0   36.0       95.0      120.0        177.0   \n",
       "10   1996-03-06       268.0   55.0      141.0      232.0        215.0   \n",
       "19   1996-04-08       266.0   29.0      351.0      279.0        330.0   \n",
       "21   1996-04-13       265.0   39.0      143.0      171.0        190.0   \n",
       "30   1996-05-14        79.0   54.0      199.0      409.0        600.0   \n",
       "...         ...         ...    ...        ...        ...          ...   \n",
       "6538 2019-11-30       101.5   27.5      104.0      430.5       1220.0   \n",
       "6539 2019-12-01       102.0   36.0      169.0      165.0        120.0   \n",
       "6541 2019-12-05       286.0   26.0       66.0      118.0        295.0   \n",
       "6545 2019-12-11       112.0   50.0       85.0      233.0        243.0   \n",
       "6546 2019-12-17       284.0   53.0      148.0      207.0        440.0   \n",
       "\n",
       "          K_energy    MPA  C1  \n",
       "8     8.700000e+27   86.0   2  \n",
       "10    5.600000e+27  261.0   2  \n",
       "19    1.100000e+27  269.0   2  \n",
       "21    6.000000e+27  266.0   2  \n",
       "30    1.200000e+27   81.0   2  \n",
       "...            ...    ...  ..  \n",
       "6538  7.550000e+27  101.5   2  \n",
       "6539  4.000000e+27  106.0   2  \n",
       "6541  2.400000e+27  280.0   2  \n",
       "6545  3.300000e+27  116.0   2  \n",
       "6546  7.100000e+27  288.0   2  \n",
       "\n",
       "[450 rows x 9 columns]>"
      ]
     },
     "execution_count": 271,
     "metadata": {},
     "output_type": "execute_result"
    }
   ],
   "source": [
    "df[df['C1']==2].sum"
   ]
  },
  {
   "cell_type": "code",
   "execution_count": 272,
   "metadata": {},
   "outputs": [
    {
     "data": {
      "text/plain": [
       "<matplotlib.axes._subplots.AxesSubplot at 0x7f751d12e1d0>"
      ]
     },
     "execution_count": 272,
     "metadata": {},
     "output_type": "execute_result"
    },
    {
     "data": {
      "image/png": "[encoded data removed]",
      "text/plain": [
       "<Figure size 432x288 with 1 Axes>"
      ]
     },
     "metadata": {
      "needs_background": "light"
     },
     "output_type": "display_data"
    }
   ],
   "source": [
    "sns.distplot(df['C1'])"
   ]
  },
  {
   "cell_type": "code",
   "execution_count": 97,
   "metadata": {},
   "outputs": [],
   "source": [
    "df.to_csv('CME_new2.csv', index = False)"
   ]
  },
  {
   "cell_type": "code",
   "execution_count": null,
   "metadata": {},
   "outputs": [],
   "source": []
  },
  {
   "cell_type": "code",
   "execution_count": null,
   "metadata": {},
   "outputs": [],
   "source": []
  },
  {
   "cell_type": "code",
   "execution_count": null,
   "metadata": {},
   "outputs": [],
   "source": []
  },
  {
   "cell_type": "code",
   "execution_count": null,
   "metadata": {},
   "outputs": [],
   "source": []
  },
  {
   "cell_type": "code",
   "execution_count": null,
   "metadata": {},
   "outputs": [],
   "source": []
  },
  {
   "cell_type": "code",
   "execution_count": null,
   "metadata": {},
   "outputs": [],
   "source": []
  }
 ],
 "metadata": {
  "kernelspec": {
   "display_name": "Python 3",
   "language": "python",
   "name": "python3"
  },
  "language_info": {
   "codemirror_mode": {
    "name": "ipython",
    "version": 3
   },
   "file_extension": ".py",
   "mimetype": "text/x-python",
   "name": "python",
   "nbconvert_exporter": "python",
   "pygments_lexer": "ipython3",
   "version": "3.7.6"
  }
 },
 "nbformat": 4,
 "nbformat_minor": 4
}
